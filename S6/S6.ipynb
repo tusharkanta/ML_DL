{
  "nbformat": 4,
  "nbformat_minor": 0,
  "metadata": {
    "colab": {
      "name": "S6_(1)_(2).ipynb",
      "provenance": [],
      "collapsed_sections": [],
      "include_colab_link": true
    },
    "kernelspec": {
      "name": "python3",
      "display_name": "Python 3"
    },
    "accelerator": "GPU"
  },
  "cells": [
    {
      "cell_type": "markdown",
      "metadata": {
        "id": "view-in-github",
        "colab_type": "text"
      },
      "source": [
        "<a href=\"https://colab.research.google.com/github/tusharkanta/ML_DL/blob/eva/S6/S6.ipynb\" target=\"_parent\"><img src=\"https://colab.research.google.com/assets/colab-badge.svg\" alt=\"Open In Colab\"/></a>"
      ]
    },
    {
      "cell_type": "markdown",
      "metadata": {
        "id": "aO-7t1Y7-hV4",
        "colab_type": "text"
      },
      "source": [
        "# Import Libraries"
      ]
    },
    {
      "cell_type": "markdown",
      "metadata": {
        "id": "scXmaoqkTEoV",
        "colab_type": "text"
      },
      "source": [
        "Target:\n",
        "\n",
        "Kept the model same as previous as the parameters has hit 9904. Reduced batch size from 32 to 24, changed learning rate from 0.01 to 0.008 and changed random roation param back to -7,7. Result: Parameters: 9,904 Best Train Accuracy: 98.86 Best Test Accuracy: 99.42 Analysis: Validation accuracy has improved and remained quite consistent (does not fluctuate rapidly)"
      ]
    },
    {
      "cell_type": "code",
      "metadata": {
        "id": "8kH16rnZ7wt_",
        "colab_type": "code",
        "colab": {}
      },
      "source": [
        "from __future__ import print_function\n",
        "import torch\n",
        "import torch.nn as nn\n",
        "import torch.nn.functional as F\n",
        "import torch.optim as optim\n",
        "from torchvision import datasets, transforms"
      ],
      "execution_count": 0,
      "outputs": []
    },
    {
      "cell_type": "markdown",
      "metadata": {
        "id": "ky3f_Odl-7um",
        "colab_type": "text"
      },
      "source": [
        "## Data Transformations\n",
        "\n",
        "We first start with defining our data transformations. We need to think what our data is and how can we augment it to correct represent images which it might not see otherwise. \n",
        "\n",
        "Here is the list of all the transformations which come pre-built with PyTorch\n",
        "\n",
        "1.   Compose\n",
        "2.   ToTensor\n",
        "3.   ToPILImage\n",
        "4. Normalize\n",
        "5. Resize\n",
        "6. Scale\n",
        "7. CenterCrop\n",
        "8. Pad\n",
        "9. Lambda\n",
        "10. RandomApply\n",
        "11. RandomChoice\n",
        "12. RandomOrder\n",
        "13. RandomCrop\n",
        "14. RandomHorizontalFlip\n",
        "15. RandomVerticalFlip\n",
        "16. RandomResizedCrop\n",
        "17. RandomSizedCrop\n",
        "18. FiveCrop\n",
        "19. TenCrop\n",
        "20. LinearTransformation\n",
        "21. ColorJitter\n",
        "22. RandomRotation\n",
        "23. RandomAffine\n",
        "24. Grayscale\n",
        "25. RandomGrayscale\n",
        "26. RandomPerspective\n",
        "27. RandomErasing\n",
        "\n",
        "You can read more about them [here](https://pytorch.org/docs/stable/_modules/torchvision/transforms/transforms.html)"
      ]
    },
    {
      "cell_type": "code",
      "metadata": {
        "id": "YtssFUKb-jqx",
        "colab_type": "code",
        "colab": {}
      },
      "source": [
        "# Train Phase transformations\n",
        "train_transforms = transforms.Compose([\n",
        "                                      #  transforms.Resize((28, 28)),\n",
        "                                       #transforms.ColorJitter(brightness=0.10, contrast=0.1, saturation=0.10, hue=0.1),\n",
        "                                       transforms.RandomRotation((-7.0, 7.0), fill=(1,)),\n",
        "                                       transforms.ToTensor(),\n",
        "                                       transforms.Normalize((0.1307,), (0.3081,)) # The mean and std have to be sequences (e.g., tuples), therefore you should add a comma after the values. \n",
        "                                       # Note the difference between (0.1307) and (0.1307,)\n",
        "                                       ])\n",
        "\n",
        "# Test Phase transformations\n",
        "test_transforms = transforms.Compose([\n",
        "                                      #  transforms.Resize((28, 28)),\n",
        "                                      #  transforms.ColorJitter(brightness=0.10, contrast=0.1, saturation=0.10, hue=0.1),\n",
        "                                       transforms.ToTensor(),\n",
        "                                       transforms.Normalize((0.1307,), (0.3081,))\n",
        "                                       ])\n"
      ],
      "execution_count": 0,
      "outputs": []
    },
    {
      "cell_type": "markdown",
      "metadata": {
        "id": "oQciFYo2B1mO",
        "colab_type": "text"
      },
      "source": [
        "# Dataset and Creating Train/Test Split"
      ]
    },
    {
      "cell_type": "code",
      "metadata": {
        "id": "_4A84rlfDA23",
        "colab_type": "code",
        "colab": {}
      },
      "source": [
        "train = datasets.MNIST('./data', train=True, download=True, transform=train_transforms)\n",
        "test = datasets.MNIST('./data', train=False, download=True, transform=test_transforms)"
      ],
      "execution_count": 0,
      "outputs": []
    },
    {
      "cell_type": "markdown",
      "metadata": {
        "id": "qgldp_3-Dn0c",
        "colab_type": "text"
      },
      "source": [
        "# Dataloader Arguments & Test/Train Dataloaders\n"
      ]
    },
    {
      "cell_type": "code",
      "metadata": {
        "id": "C8OLDR79DrHG",
        "colab_type": "code",
        "outputId": "3ca225a7-4e0f-4f6a-d0fb-bed557e91e82",
        "colab": {
          "base_uri": "https://localhost:8080/",
          "height": 34
        }
      },
      "source": [
        "SEED = 1\n",
        "\n",
        "# CUDA?\n",
        "cuda = torch.cuda.is_available()\n",
        "print(\"CUDA Available?\", cuda)\n",
        "\n",
        "# For reproducibility\n",
        "torch.manual_seed(SEED)\n",
        "\n",
        "if cuda:\n",
        "    torch.cuda.manual_seed(SEED)\n",
        "\n",
        "# dataloader arguments - something you'll fetch these from cmdprmt\n",
        "dataloader_args = dict(shuffle=True, batch_size=128, num_workers=4, pin_memory=True) if cuda else dict(shuffle=True, batch_size=16)\n",
        "\n",
        "# train dataloader\n",
        "train_loader = torch.utils.data.DataLoader(train, **dataloader_args)\n",
        "\n",
        "# test dataloader\n",
        "test_loader = torch.utils.data.DataLoader(test, **dataloader_args)"
      ],
      "execution_count": 9,
      "outputs": [
        {
          "output_type": "stream",
          "text": [
            "CUDA Available? True\n"
          ],
          "name": "stdout"
        }
      ]
    },
    {
      "cell_type": "markdown",
      "metadata": {
        "id": "-TFjoFekE_va",
        "colab_type": "text"
      },
      "source": [
        "# Data Statistics\n",
        "\n",
        "It is important to know your data very well. Let's check some of the statistics around our data and how it actually looks like"
      ]
    },
    {
      "cell_type": "code",
      "metadata": {
        "id": "hWZPPo3yEHDW",
        "colab_type": "code",
        "colab": {}
      },
      "source": [
        "\n"
      ],
      "execution_count": 0,
      "outputs": []
    },
    {
      "cell_type": "markdown",
      "metadata": {
        "id": "7l9lNaWYKuik",
        "colab_type": "text"
      },
      "source": [
        "## MORE\n",
        "\n",
        "It is important that we view as many images as possible. This is required to get some idea on image augmentation later on"
      ]
    },
    {
      "cell_type": "code",
      "metadata": {
        "id": "hXXAg8hbK16u",
        "colab_type": "code",
        "colab": {}
      },
      "source": [
        ""
      ],
      "execution_count": 0,
      "outputs": []
    },
    {
      "cell_type": "markdown",
      "metadata": {
        "id": "JF5-8_I3G6ix",
        "colab_type": "text"
      },
      "source": [
        "# How did we get those mean and std values which we used above?\n",
        "\n",
        "Let's run a small experiment"
      ]
    },
    {
      "cell_type": "code",
      "metadata": {
        "id": "yooPHm_aFc5A",
        "colab_type": "code",
        "outputId": "1accb904-318c-4e6c-d11d-c15c7576f95d",
        "colab": {
          "base_uri": "https://localhost:8080/",
          "height": 187
        }
      },
      "source": [
        "# simple transform\n",
        "simple_transforms = transforms.Compose([\n",
        "                                      #  transforms.Resize((28, 28)),\n",
        "                                      #  transforms.ColorJitter(brightness=0.10, contrast=0.1, saturation=0.10, hue=0.1),\n",
        "                                       \n",
        "                                       transforms.ToTensor(),\n",
        "                                      #  transforms.Normalize((0.1307,), (0.3081,)) # The mean and std have to be sequences (e.g., tuples), therefore you should add a comma after the values. \n",
        "                                       # Note the difference between (0.1307) and (0.1307,)\n",
        "                                       ])\n",
        "exp = datasets.MNIST('./data', train=True, download=True, transform=simple_transforms)\n",
        "exp_data = exp.train_data\n",
        "exp_data = exp.transform(exp_data.numpy())\n",
        "\n",
        "print('[Train]')\n",
        "print(' - Numpy Shape:', exp.train_data.cpu().numpy().shape)\n",
        "print(' - Tensor Shape:', exp.train_data.size())\n",
        "print(' - min:', torch.min(exp_data))\n",
        "print(' - max:', torch.max(exp_data))\n",
        "print(' - mean:', torch.mean(exp_data))\n",
        "print(' - std:', torch.std(exp_data))\n",
        "print(' - var:', torch.var(exp_data))"
      ],
      "execution_count": 10,
      "outputs": [
        {
          "output_type": "stream",
          "text": [
            "/usr/local/lib/python3.6/dist-packages/torchvision/datasets/mnist.py:55: UserWarning: train_data has been renamed data\n",
            "  warnings.warn(\"train_data has been renamed data\")\n"
          ],
          "name": "stderr"
        },
        {
          "output_type": "stream",
          "text": [
            "[Train]\n",
            " - Numpy Shape: (60000, 28, 28)\n",
            " - Tensor Shape: torch.Size([60000, 28, 28])\n",
            " - min: tensor(0.)\n",
            " - max: tensor(1.)\n",
            " - mean: tensor(0.1305)\n",
            " - std: tensor(0.3081)\n",
            " - var: tensor(0.0949)\n"
          ],
          "name": "stdout"
        }
      ]
    },
    {
      "cell_type": "markdown",
      "metadata": {
        "id": "ubQL3H6RJL3h",
        "colab_type": "text"
      },
      "source": [
        "# The model\n",
        "Let's start with the model we first saw"
      ]
    },
    {
      "cell_type": "code",
      "metadata": {
        "id": "7FXQlB9kH1ov",
        "colab_type": "code",
        "colab": {}
      },
      "source": [
        "import torch.nn.functional as F\n",
        "dropout_value = 0.1\n",
        "class Net(nn.Module):\n",
        "    def __init__(self):\n",
        "        super(Net, self).__init__()\n",
        "        # Input Block\n",
        "        self.convblock1 = nn.Sequential(\n",
        "            nn.Conv2d(in_channels=1, out_channels=16, kernel_size=(3, 3), padding=0, bias=False),\n",
        "            nn.ReLU(),\n",
        "            nn.BatchNorm2d(16),\n",
        "            nn.Dropout(dropout_value)\n",
        "        ) # output_size = 26*26*16 RF=3\n",
        "\n",
        "        # CONVOLUTION BLOCK 1\n",
        "        self.convblock2 = nn.Sequential(\n",
        "            nn.Conv2d(in_channels=16, out_channels=16, kernel_size=(3, 3), padding=0, bias=False),\n",
        "            nn.ReLU(),\n",
        "            nn.BatchNorm2d(16),\n",
        "            nn.Dropout(dropout_value)\n",
        "        ) # output_size = 24*24*16  RF=5\n",
        "\n",
        "        # TRANSITION BLOCK 1\n",
        "         # output_size = 24\n",
        "        self.convblock3 = nn.Sequential(\n",
        "            nn.Conv2d(in_channels=16, out_channels=8, kernel_size=(1, 1), padding=0, bias=False),\n",
        "        ) # output_size = 24*24*8  RF=5\n",
        "        self.pool1 = nn.MaxPool2d(2, 2) # output_size = 12*12*8  RF=6\n",
        "        \n",
        "\n",
        "        # CONVOLUTION BLOCK 2\n",
        "        self.convblock4 = nn.Sequential(\n",
        "            nn.Conv2d(in_channels=8, out_channels=16, kernel_size=(3, 3), padding=0, bias=False),\n",
        "            nn.ReLU(),            \n",
        "            nn.BatchNorm2d(16),\n",
        "            nn.Dropout(dropout_value)\n",
        "        ) # output_size = 10*10*16  RF=10\n",
        "        self.convblock5 = nn.Sequential(\n",
        "            nn.Conv2d(in_channels=16, out_channels=16, kernel_size=(3, 3), padding=0, bias=False),\n",
        "            nn.ReLU(),            \n",
        "            nn.BatchNorm2d(16),\n",
        "            nn.Dropout(dropout_value)\n",
        "        ) # output_size = 8*8*16  RF=14\n",
        "        self.convblock6 = nn.Sequential(\n",
        "            nn.Conv2d(in_channels=16, out_channels=24, kernel_size=(3, 3), padding=0, bias=False),\n",
        "            nn.ReLU(),            \n",
        "            nn.BatchNorm2d(24),\n",
        "            nn.Dropout(dropout_value)\n",
        "        ) # output_size = 6*6*24  RF=18\n",
        "        #self.convblock7 = nn.Sequential(\n",
        "         #   nn.Conv2d(in_channels=16, out_channels=16, kernel_size=(3, 3), padding=1, bias=False),\n",
        "          #  nn.ReLU(),            \n",
        "           # nn.BatchNorm2d(16),\n",
        "            #nn.Dropout(dropout_value)\n",
        "        #) # output_size = 6\n",
        "        \n",
        "        # OUTPUT BLOCK\n",
        "        self.gap = nn.Sequential(\n",
        "            nn.AvgPool2d(kernel_size=6)\n",
        "        ) # output_size = 1*1*24  RF=28\n",
        "\n",
        "        self.convblock8 = nn.Sequential(\n",
        "            nn.Conv2d(in_channels=24, out_channels=10, kernel_size=(1, 1), padding=0, bias=False),\n",
        "            # nn.BatchNorm2d(10),\n",
        "            # nn.ReLU(),\n",
        "            # nn.Dropout(dropout_value)\n",
        "        ) # output_size = 1*1*10  RF=28\n",
        "\n",
        "\n",
        "        self.dropout = nn.Dropout(dropout_value)\n",
        "\n",
        "    def forward(self, x):\n",
        "        x = self.convblock1(x)\n",
        "        x = self.convblock2(x)\n",
        "        x = self.convblock3(x)\n",
        "        x = self.pool1(x)\n",
        "        x = self.convblock4(x)\n",
        "        x = self.convblock5(x)\n",
        "        x = self.convblock6(x)\n",
        "        #x = self.convblock7(x)\n",
        "        x = self.gap(x)        \n",
        "        x = self.convblock8(x)\n",
        "\n",
        "        x = x.view(-1, 10)\n",
        "        return F.log_softmax(x, dim=-1)"
      ],
      "execution_count": 0,
      "outputs": []
    },
    {
      "cell_type": "markdown",
      "metadata": {
        "id": "M3-vp8X9LCWo",
        "colab_type": "text"
      },
      "source": [
        "# Model Params\n",
        "Can't emphasize on how important viewing Model Summary is. \n",
        "Unfortunately, there is no in-built model visualizer, so we have to take external help"
      ]
    },
    {
      "cell_type": "code",
      "metadata": {
        "id": "5skB97zIJQQe",
        "colab_type": "code",
        "outputId": "d4497cdf-d96a-4088-b2b4-4996dce8868e",
        "colab": {
          "base_uri": "https://localhost:8080/",
          "height": 680
        }
      },
      "source": [
        "!pip install torchsummary\n",
        "from torchsummary import summary\n",
        "use_cuda = torch.cuda.is_available()\n",
        "device = torch.device(\"cuda\" if use_cuda else \"cpu\")\n",
        "print(device)\n",
        "model = Net().to(device)\n",
        "summary(model, input_size=(1, 28, 28))"
      ],
      "execution_count": 12,
      "outputs": [
        {
          "output_type": "stream",
          "text": [
            "Requirement already satisfied: torchsummary in /usr/local/lib/python3.6/dist-packages (1.5.1)\n",
            "cuda\n",
            "----------------------------------------------------------------\n",
            "        Layer (type)               Output Shape         Param #\n",
            "================================================================\n",
            "            Conv2d-1           [-1, 16, 26, 26]             144\n",
            "              ReLU-2           [-1, 16, 26, 26]               0\n",
            "       BatchNorm2d-3           [-1, 16, 26, 26]              32\n",
            "           Dropout-4           [-1, 16, 26, 26]               0\n",
            "            Conv2d-5           [-1, 16, 24, 24]           2,304\n",
            "              ReLU-6           [-1, 16, 24, 24]               0\n",
            "       BatchNorm2d-7           [-1, 16, 24, 24]              32\n",
            "           Dropout-8           [-1, 16, 24, 24]               0\n",
            "            Conv2d-9            [-1, 8, 24, 24]             128\n",
            "        MaxPool2d-10            [-1, 8, 12, 12]               0\n",
            "           Conv2d-11           [-1, 16, 10, 10]           1,152\n",
            "             ReLU-12           [-1, 16, 10, 10]               0\n",
            "      BatchNorm2d-13           [-1, 16, 10, 10]              32\n",
            "          Dropout-14           [-1, 16, 10, 10]               0\n",
            "           Conv2d-15             [-1, 16, 8, 8]           2,304\n",
            "             ReLU-16             [-1, 16, 8, 8]               0\n",
            "      BatchNorm2d-17             [-1, 16, 8, 8]              32\n",
            "          Dropout-18             [-1, 16, 8, 8]               0\n",
            "           Conv2d-19             [-1, 24, 6, 6]           3,456\n",
            "             ReLU-20             [-1, 24, 6, 6]               0\n",
            "      BatchNorm2d-21             [-1, 24, 6, 6]              48\n",
            "          Dropout-22             [-1, 24, 6, 6]               0\n",
            "        AvgPool2d-23             [-1, 24, 1, 1]               0\n",
            "           Conv2d-24             [-1, 10, 1, 1]             240\n",
            "================================================================\n",
            "Total params: 9,904\n",
            "Trainable params: 9,904\n",
            "Non-trainable params: 0\n",
            "----------------------------------------------------------------\n",
            "Input size (MB): 0.00\n",
            "Forward/backward pass size (MB): 0.76\n",
            "Params size (MB): 0.04\n",
            "Estimated Total Size (MB): 0.80\n",
            "----------------------------------------------------------------\n"
          ],
          "name": "stdout"
        }
      ]
    },
    {
      "cell_type": "code",
      "metadata": {
        "id": "aV_OBqYN0tTn",
        "colab_type": "code",
        "colab": {}
      },
      "source": [
        "from tqdm import tqdm\n",
        "import numpy as np\n",
        "\n",
        "train_losses_normal = []\n",
        "test_losses_normal = []\n",
        "train_acc_normal = []\n",
        "test_acc_normal = []\n",
        "\n",
        "def train(model, device, train_loader, optimizer, epoch):\n",
        "  model.train()\n",
        "  pbar = tqdm(train_loader)\n",
        "  correct = 0\n",
        "  processed = 0\n",
        "  for batch_idx, (data, target) in enumerate(pbar):\n",
        "    # get samples\n",
        "    data, target = data.to(device), target.to(device)\n",
        "\n",
        "    # Init\n",
        "    optimizer.zero_grad()\n",
        "    # In PyTorch, we need to set the gradients to zero before starting to do backpropragation because PyTorch accumulates the gradients on subsequent backward passes. \n",
        "    # Because of this, when you start your training loop, ideally you should zero out the gradients so that you do the parameter update correctly.\n",
        "\n",
        "    # Predict\n",
        "    y_pred = model(data)\n",
        "\n",
        "    # Calculate loss\n",
        "    loss = F.nll_loss(y_pred, target)\n",
        "    \n",
        "    train_losses_normal.append(loss)\n",
        "\n",
        "    # Backpropagation\n",
        "    loss.backward()\n",
        "    optimizer.step()\n",
        "\n",
        "    # Update pbar-tqdm\n",
        "    \n",
        "    pred = y_pred.argmax(dim=1, keepdim=True)  # get the index of the max log-probability\n",
        "    correct += pred.eq(target.view_as(pred)).sum().item()\n",
        "    processed += len(data)\n",
        "\n",
        "    pbar.set_description(desc= f'Loss={loss.item()} Accuracy={100*correct/processed:0.2f}')\n",
        "    train_acc_normal.append(100*correct/processed)\n",
        "\n",
        "def test(model, device, test_loader):\n",
        "    model.eval()\n",
        "    test_loss = 0\n",
        "    correct = 0\n",
        "    with torch.no_grad():\n",
        "        for data, target in test_loader:\n",
        "            data, target = data.to(device), target.to(device)\n",
        "            output = model(data)\n",
        "            test_loss += F.nll_loss(output, target, reduction='sum').item()  # sum up batch loss\n",
        "            pred = output.argmax(dim=1, keepdim=True)  # get the index of the max log-probability\n",
        "            correct += pred.eq(target.view_as(pred)).sum().item()\n",
        "\n",
        "    test_loss /= len(test_loader.dataset)\n",
        "    test_losses_normal.append(test_loss)\n",
        "\n",
        "    print('\\nTest set: Avg loss: {:.4f}, Accuracy: {}/{} ({:.2f}%)\\n'.format(\n",
        "        test_loss, correct, len(test_loader.dataset),\n",
        "        100. * correct / len(test_loader.dataset)))\n",
        "    \n",
        "    test_acc_normal.append(100. * correct / len(test_loader.dataset))"
      ],
      "execution_count": 0,
      "outputs": []
    },
    {
      "cell_type": "code",
      "metadata": {
        "id": "8x9viLZZ18L9",
        "colab_type": "code",
        "outputId": "326c325a-c56d-4a28-ac24-85317b5368c5",
        "colab": {
          "base_uri": "https://localhost:8080/",
          "height": 1000
        }
      },
      "source": [
        "model =  Net().to(device)\n",
        "optimizer = optim.SGD(model.parameters(), lr=0.008, momentum=0.9)\n",
        "EPOCHS = 40\n",
        "for epoch in range(EPOCHS):\n",
        "    print(\"EPOCH:\", epoch)\n",
        "    train(model, device, train_loader, optimizer, epoch)\n",
        "    test(model, device, test_loader)"
      ],
      "execution_count": 14,
      "outputs": [
        {
          "output_type": "stream",
          "text": [
            "\r  0%|          | 0/469 [00:00<?, ?it/s]"
          ],
          "name": "stderr"
        },
        {
          "output_type": "stream",
          "text": [
            "EPOCH: 0\n"
          ],
          "name": "stdout"
        },
        {
          "output_type": "stream",
          "text": [
            "Loss=0.21615678071975708 Accuracy=85.89: 100%|██████████| 469/469 [00:12<00:00, 36.41it/s]\n",
            "  0%|          | 0/469 [00:00<?, ?it/s]"
          ],
          "name": "stderr"
        },
        {
          "output_type": "stream",
          "text": [
            "\n",
            "Test set: Avg loss: 0.1093, Accuracy: 9706/10000 (97.06%)\n",
            "\n",
            "EPOCH: 1\n"
          ],
          "name": "stdout"
        },
        {
          "output_type": "stream",
          "text": [
            "Loss=0.07952123135328293 Accuracy=97.06: 100%|██████████| 469/469 [00:13<00:00, 41.01it/s]\n",
            "  0%|          | 0/469 [00:00<?, ?it/s]"
          ],
          "name": "stderr"
        },
        {
          "output_type": "stream",
          "text": [
            "\n",
            "Test set: Avg loss: 0.0750, Accuracy: 9776/10000 (97.76%)\n",
            "\n",
            "EPOCH: 2\n"
          ],
          "name": "stdout"
        },
        {
          "output_type": "stream",
          "text": [
            "Loss=0.10465573519468307 Accuracy=97.82: 100%|██████████| 469/469 [00:13<00:00, 35.55it/s]\n",
            "  0%|          | 0/469 [00:00<?, ?it/s]"
          ],
          "name": "stderr"
        },
        {
          "output_type": "stream",
          "text": [
            "\n",
            "Test set: Avg loss: 0.0447, Accuracy: 9878/10000 (98.78%)\n",
            "\n",
            "EPOCH: 3\n"
          ],
          "name": "stdout"
        },
        {
          "output_type": "stream",
          "text": [
            "Loss=0.0464821420609951 Accuracy=98.10: 100%|██████████| 469/469 [00:12<00:00, 36.43it/s]\n",
            "  0%|          | 0/469 [00:00<?, ?it/s]"
          ],
          "name": "stderr"
        },
        {
          "output_type": "stream",
          "text": [
            "\n",
            "Test set: Avg loss: 0.0426, Accuracy: 9870/10000 (98.70%)\n",
            "\n",
            "EPOCH: 4\n"
          ],
          "name": "stdout"
        },
        {
          "output_type": "stream",
          "text": [
            "Loss=0.06591516733169556 Accuracy=98.38: 100%|██████████| 469/469 [00:12<00:00, 37.85it/s]\n",
            "  0%|          | 0/469 [00:00<?, ?it/s]"
          ],
          "name": "stderr"
        },
        {
          "output_type": "stream",
          "text": [
            "\n",
            "Test set: Avg loss: 0.0341, Accuracy: 9892/10000 (98.92%)\n",
            "\n",
            "EPOCH: 5\n"
          ],
          "name": "stdout"
        },
        {
          "output_type": "stream",
          "text": [
            "Loss=0.0569625049829483 Accuracy=98.47: 100%|██████████| 469/469 [00:13<00:00, 36.07it/s]\n",
            "  0%|          | 0/469 [00:00<?, ?it/s]"
          ],
          "name": "stderr"
        },
        {
          "output_type": "stream",
          "text": [
            "\n",
            "Test set: Avg loss: 0.0306, Accuracy: 9903/10000 (99.03%)\n",
            "\n",
            "EPOCH: 6\n"
          ],
          "name": "stdout"
        },
        {
          "output_type": "stream",
          "text": [
            "Loss=0.06781316548585892 Accuracy=98.49: 100%|██████████| 469/469 [00:12<00:00, 37.22it/s]\n",
            "  0%|          | 0/469 [00:00<?, ?it/s]"
          ],
          "name": "stderr"
        },
        {
          "output_type": "stream",
          "text": [
            "\n",
            "Test set: Avg loss: 0.0347, Accuracy: 9882/10000 (98.82%)\n",
            "\n",
            "EPOCH: 7\n"
          ],
          "name": "stdout"
        },
        {
          "output_type": "stream",
          "text": [
            "Loss=0.013681049458682537 Accuracy=98.65: 100%|██████████| 469/469 [00:12<00:00, 37.15it/s]\n",
            "  0%|          | 0/469 [00:00<?, ?it/s]"
          ],
          "name": "stderr"
        },
        {
          "output_type": "stream",
          "text": [
            "\n",
            "Test set: Avg loss: 0.0264, Accuracy: 9917/10000 (99.17%)\n",
            "\n",
            "EPOCH: 8\n"
          ],
          "name": "stdout"
        },
        {
          "output_type": "stream",
          "text": [
            "Loss=0.011867533437907696 Accuracy=98.72: 100%|██████████| 469/469 [00:12<00:00, 37.53it/s]\n",
            "  0%|          | 0/469 [00:00<?, ?it/s]"
          ],
          "name": "stderr"
        },
        {
          "output_type": "stream",
          "text": [
            "\n",
            "Test set: Avg loss: 0.0254, Accuracy: 9919/10000 (99.19%)\n",
            "\n",
            "EPOCH: 9\n"
          ],
          "name": "stdout"
        },
        {
          "output_type": "stream",
          "text": [
            "Loss=0.03546585515141487 Accuracy=98.86: 100%|██████████| 469/469 [00:12<00:00, 43.99it/s]\n",
            "  0%|          | 0/469 [00:00<?, ?it/s]"
          ],
          "name": "stderr"
        },
        {
          "output_type": "stream",
          "text": [
            "\n",
            "Test set: Avg loss: 0.0261, Accuracy: 9918/10000 (99.18%)\n",
            "\n",
            "EPOCH: 10\n"
          ],
          "name": "stdout"
        },
        {
          "output_type": "stream",
          "text": [
            "Loss=0.02320083975791931 Accuracy=98.79: 100%|██████████| 469/469 [00:13<00:00, 35.88it/s]\n",
            "  0%|          | 0/469 [00:00<?, ?it/s]"
          ],
          "name": "stderr"
        },
        {
          "output_type": "stream",
          "text": [
            "\n",
            "Test set: Avg loss: 0.0251, Accuracy: 9923/10000 (99.23%)\n",
            "\n",
            "EPOCH: 11\n"
          ],
          "name": "stdout"
        },
        {
          "output_type": "stream",
          "text": [
            "Loss=0.01254454255104065 Accuracy=98.86: 100%|██████████| 469/469 [00:13<00:00, 35.61it/s]\n",
            "  0%|          | 0/469 [00:00<?, ?it/s]"
          ],
          "name": "stderr"
        },
        {
          "output_type": "stream",
          "text": [
            "\n",
            "Test set: Avg loss: 0.0253, Accuracy: 9924/10000 (99.24%)\n",
            "\n",
            "EPOCH: 12\n"
          ],
          "name": "stdout"
        },
        {
          "output_type": "stream",
          "text": [
            "Loss=0.008824576623737812 Accuracy=98.95: 100%|██████████| 469/469 [00:12<00:00, 36.68it/s]\n",
            "  0%|          | 0/469 [00:00<?, ?it/s]"
          ],
          "name": "stderr"
        },
        {
          "output_type": "stream",
          "text": [
            "\n",
            "Test set: Avg loss: 0.0235, Accuracy: 9926/10000 (99.26%)\n",
            "\n",
            "EPOCH: 13\n"
          ],
          "name": "stdout"
        },
        {
          "output_type": "stream",
          "text": [
            "Loss=0.03536854684352875 Accuracy=98.88: 100%|██████████| 469/469 [00:12<00:00, 36.50it/s]\n",
            "  0%|          | 0/469 [00:00<?, ?it/s]"
          ],
          "name": "stderr"
        },
        {
          "output_type": "stream",
          "text": [
            "\n",
            "Test set: Avg loss: 0.0222, Accuracy: 9928/10000 (99.28%)\n",
            "\n",
            "EPOCH: 14\n"
          ],
          "name": "stdout"
        },
        {
          "output_type": "stream",
          "text": [
            "Loss=0.013327042572200298 Accuracy=98.96: 100%|██████████| 469/469 [00:13<00:00, 35.41it/s]\n",
            "  0%|          | 0/469 [00:00<?, ?it/s]"
          ],
          "name": "stderr"
        },
        {
          "output_type": "stream",
          "text": [
            "\n",
            "Test set: Avg loss: 0.0256, Accuracy: 9914/10000 (99.14%)\n",
            "\n",
            "EPOCH: 15\n"
          ],
          "name": "stdout"
        },
        {
          "output_type": "stream",
          "text": [
            "Loss=0.031449202448129654 Accuracy=98.95: 100%|██████████| 469/469 [00:13<00:00, 35.97it/s]\n",
            "  0%|          | 0/469 [00:00<?, ?it/s]"
          ],
          "name": "stderr"
        },
        {
          "output_type": "stream",
          "text": [
            "\n",
            "Test set: Avg loss: 0.0221, Accuracy: 9930/10000 (99.30%)\n",
            "\n",
            "EPOCH: 16\n"
          ],
          "name": "stdout"
        },
        {
          "output_type": "stream",
          "text": [
            "Loss=0.005742495413869619 Accuracy=99.05: 100%|██████████| 469/469 [00:13<00:00, 35.44it/s]\n",
            "  0%|          | 0/469 [00:00<?, ?it/s]"
          ],
          "name": "stderr"
        },
        {
          "output_type": "stream",
          "text": [
            "\n",
            "Test set: Avg loss: 0.0255, Accuracy: 9925/10000 (99.25%)\n",
            "\n",
            "EPOCH: 17\n"
          ],
          "name": "stdout"
        },
        {
          "output_type": "stream",
          "text": [
            "Loss=0.06246692314743996 Accuracy=99.02: 100%|██████████| 469/469 [00:12<00:00, 36.98it/s]\n",
            "  0%|          | 0/469 [00:00<?, ?it/s]"
          ],
          "name": "stderr"
        },
        {
          "output_type": "stream",
          "text": [
            "\n",
            "Test set: Avg loss: 0.0217, Accuracy: 9930/10000 (99.30%)\n",
            "\n",
            "EPOCH: 18\n"
          ],
          "name": "stdout"
        },
        {
          "output_type": "stream",
          "text": [
            "Loss=0.046821847558021545 Accuracy=99.03: 100%|██████████| 469/469 [00:13<00:00, 35.41it/s]\n",
            "  0%|          | 0/469 [00:00<?, ?it/s]"
          ],
          "name": "stderr"
        },
        {
          "output_type": "stream",
          "text": [
            "\n",
            "Test set: Avg loss: 0.0212, Accuracy: 9930/10000 (99.30%)\n",
            "\n",
            "EPOCH: 19\n"
          ],
          "name": "stdout"
        },
        {
          "output_type": "stream",
          "text": [
            "Loss=0.016451403498649597 Accuracy=99.03: 100%|██████████| 469/469 [00:13<00:00, 36.06it/s]\n",
            "  0%|          | 0/469 [00:00<?, ?it/s]"
          ],
          "name": "stderr"
        },
        {
          "output_type": "stream",
          "text": [
            "\n",
            "Test set: Avg loss: 0.0203, Accuracy: 9940/10000 (99.40%)\n",
            "\n",
            "EPOCH: 20\n"
          ],
          "name": "stdout"
        },
        {
          "output_type": "stream",
          "text": [
            "Loss=0.036493685096502304 Accuracy=99.05: 100%|██████████| 469/469 [00:12<00:00, 36.18it/s]\n",
            "  0%|          | 0/469 [00:00<?, ?it/s]"
          ],
          "name": "stderr"
        },
        {
          "output_type": "stream",
          "text": [
            "\n",
            "Test set: Avg loss: 0.0204, Accuracy: 9933/10000 (99.33%)\n",
            "\n",
            "EPOCH: 21\n"
          ],
          "name": "stdout"
        },
        {
          "output_type": "stream",
          "text": [
            "Loss=0.024160360917448997 Accuracy=99.11: 100%|██████████| 469/469 [00:12<00:00, 37.58it/s]\n",
            "  0%|          | 0/469 [00:00<?, ?it/s]"
          ],
          "name": "stderr"
        },
        {
          "output_type": "stream",
          "text": [
            "\n",
            "Test set: Avg loss: 0.0202, Accuracy: 9931/10000 (99.31%)\n",
            "\n",
            "EPOCH: 22\n"
          ],
          "name": "stdout"
        },
        {
          "output_type": "stream",
          "text": [
            "Loss=0.026775801554322243 Accuracy=99.12: 100%|██████████| 469/469 [00:12<00:00, 36.31it/s]\n",
            "  0%|          | 0/469 [00:00<?, ?it/s]"
          ],
          "name": "stderr"
        },
        {
          "output_type": "stream",
          "text": [
            "\n",
            "Test set: Avg loss: 0.0184, Accuracy: 9939/10000 (99.39%)\n",
            "\n",
            "EPOCH: 23\n"
          ],
          "name": "stdout"
        },
        {
          "output_type": "stream",
          "text": [
            "Loss=0.01784740947186947 Accuracy=99.13: 100%|██████████| 469/469 [00:12<00:00, 38.04it/s]\n",
            "  0%|          | 0/469 [00:00<?, ?it/s]"
          ],
          "name": "stderr"
        },
        {
          "output_type": "stream",
          "text": [
            "\n",
            "Test set: Avg loss: 0.0182, Accuracy: 9942/10000 (99.42%)\n",
            "\n",
            "EPOCH: 24\n"
          ],
          "name": "stdout"
        },
        {
          "output_type": "stream",
          "text": [
            "Loss=0.11699333041906357 Accuracy=99.13: 100%|██████████| 469/469 [00:12<00:00, 37.98it/s]\n",
            "  0%|          | 0/469 [00:00<?, ?it/s]"
          ],
          "name": "stderr"
        },
        {
          "output_type": "stream",
          "text": [
            "\n",
            "Test set: Avg loss: 0.0190, Accuracy: 9936/10000 (99.36%)\n",
            "\n",
            "EPOCH: 25\n"
          ],
          "name": "stdout"
        },
        {
          "output_type": "stream",
          "text": [
            "Loss=0.009977285750210285 Accuracy=99.17: 100%|██████████| 469/469 [00:12<00:00, 38.94it/s]\n",
            "  0%|          | 0/469 [00:00<?, ?it/s]"
          ],
          "name": "stderr"
        },
        {
          "output_type": "stream",
          "text": [
            "\n",
            "Test set: Avg loss: 0.0205, Accuracy: 9934/10000 (99.34%)\n",
            "\n",
            "EPOCH: 26\n"
          ],
          "name": "stdout"
        },
        {
          "output_type": "stream",
          "text": [
            "Loss=0.04203891381621361 Accuracy=99.22: 100%|██████████| 469/469 [00:12<00:00, 37.54it/s]\n",
            "  0%|          | 0/469 [00:00<?, ?it/s]"
          ],
          "name": "stderr"
        },
        {
          "output_type": "stream",
          "text": [
            "\n",
            "Test set: Avg loss: 0.0201, Accuracy: 9931/10000 (99.31%)\n",
            "\n",
            "EPOCH: 27\n"
          ],
          "name": "stdout"
        },
        {
          "output_type": "stream",
          "text": [
            "Loss=0.02141948603093624 Accuracy=99.15: 100%|██████████| 469/469 [00:12<00:00, 38.16it/s]\n",
            "  0%|          | 0/469 [00:00<?, ?it/s]"
          ],
          "name": "stderr"
        },
        {
          "output_type": "stream",
          "text": [
            "\n",
            "Test set: Avg loss: 0.0196, Accuracy: 9936/10000 (99.36%)\n",
            "\n",
            "EPOCH: 28\n"
          ],
          "name": "stdout"
        },
        {
          "output_type": "stream",
          "text": [
            "Loss=0.02072136662900448 Accuracy=99.14: 100%|██████████| 469/469 [00:12<00:00, 37.91it/s]\n",
            "  0%|          | 0/469 [00:00<?, ?it/s]"
          ],
          "name": "stderr"
        },
        {
          "output_type": "stream",
          "text": [
            "\n",
            "Test set: Avg loss: 0.0195, Accuracy: 9940/10000 (99.40%)\n",
            "\n",
            "EPOCH: 29\n"
          ],
          "name": "stdout"
        },
        {
          "output_type": "stream",
          "text": [
            "Loss=0.04456305131316185 Accuracy=99.21: 100%|██████████| 469/469 [00:12<00:00, 38.44it/s]\n",
            "  0%|          | 0/469 [00:00<?, ?it/s]"
          ],
          "name": "stderr"
        },
        {
          "output_type": "stream",
          "text": [
            "\n",
            "Test set: Avg loss: 0.0174, Accuracy: 9943/10000 (99.43%)\n",
            "\n",
            "EPOCH: 30\n"
          ],
          "name": "stdout"
        },
        {
          "output_type": "stream",
          "text": [
            "Loss=0.005367209669202566 Accuracy=99.12: 100%|██████████| 469/469 [00:12<00:00, 39.02it/s]\n",
            "  0%|          | 0/469 [00:00<?, ?it/s]"
          ],
          "name": "stderr"
        },
        {
          "output_type": "stream",
          "text": [
            "\n",
            "Test set: Avg loss: 0.0185, Accuracy: 9935/10000 (99.35%)\n",
            "\n",
            "EPOCH: 31\n"
          ],
          "name": "stdout"
        },
        {
          "output_type": "stream",
          "text": [
            "Loss=0.027888184413313866 Accuracy=99.17: 100%|██████████| 469/469 [00:12<00:00, 38.12it/s]\n",
            "  0%|          | 0/469 [00:00<?, ?it/s]"
          ],
          "name": "stderr"
        },
        {
          "output_type": "stream",
          "text": [
            "\n",
            "Test set: Avg loss: 0.0182, Accuracy: 9935/10000 (99.35%)\n",
            "\n",
            "EPOCH: 32\n"
          ],
          "name": "stdout"
        },
        {
          "output_type": "stream",
          "text": [
            "Loss=0.004966720938682556 Accuracy=99.17: 100%|██████████| 469/469 [00:12<00:00, 38.02it/s]\n",
            "  0%|          | 0/469 [00:00<?, ?it/s]"
          ],
          "name": "stderr"
        },
        {
          "output_type": "stream",
          "text": [
            "\n",
            "Test set: Avg loss: 0.0183, Accuracy: 9942/10000 (99.42%)\n",
            "\n",
            "EPOCH: 33\n"
          ],
          "name": "stdout"
        },
        {
          "output_type": "stream",
          "text": [
            "Loss=0.0025884907227009535 Accuracy=99.17: 100%|██████████| 469/469 [00:12<00:00, 37.23it/s]\n",
            "  0%|          | 0/469 [00:00<?, ?it/s]"
          ],
          "name": "stderr"
        },
        {
          "output_type": "stream",
          "text": [
            "\n",
            "Test set: Avg loss: 0.0183, Accuracy: 9938/10000 (99.38%)\n",
            "\n",
            "EPOCH: 34\n"
          ],
          "name": "stdout"
        },
        {
          "output_type": "stream",
          "text": [
            "Loss=0.007753501180559397 Accuracy=99.21: 100%|██████████| 469/469 [00:11<00:00, 39.34it/s]\n",
            "  0%|          | 0/469 [00:00<?, ?it/s]"
          ],
          "name": "stderr"
        },
        {
          "output_type": "stream",
          "text": [
            "\n",
            "Test set: Avg loss: 0.0179, Accuracy: 9940/10000 (99.40%)\n",
            "\n",
            "EPOCH: 35\n"
          ],
          "name": "stdout"
        },
        {
          "output_type": "stream",
          "text": [
            "Loss=0.03047867678105831 Accuracy=99.23: 100%|██████████| 469/469 [00:12<00:00, 38.10it/s]\n",
            "  0%|          | 0/469 [00:00<?, ?it/s]"
          ],
          "name": "stderr"
        },
        {
          "output_type": "stream",
          "text": [
            "\n",
            "Test set: Avg loss: 0.0199, Accuracy: 9934/10000 (99.34%)\n",
            "\n",
            "EPOCH: 36\n"
          ],
          "name": "stdout"
        },
        {
          "output_type": "stream",
          "text": [
            "Loss=0.0693734660744667 Accuracy=99.16: 100%|██████████| 469/469 [00:12<00:00, 37.14it/s]\n",
            "  0%|          | 0/469 [00:00<?, ?it/s]"
          ],
          "name": "stderr"
        },
        {
          "output_type": "stream",
          "text": [
            "\n",
            "Test set: Avg loss: 0.0187, Accuracy: 9938/10000 (99.38%)\n",
            "\n",
            "EPOCH: 37\n"
          ],
          "name": "stdout"
        },
        {
          "output_type": "stream",
          "text": [
            "Loss=0.015823086723685265 Accuracy=99.17: 100%|██████████| 469/469 [00:12<00:00, 38.04it/s]\n",
            "  0%|          | 0/469 [00:00<?, ?it/s]"
          ],
          "name": "stderr"
        },
        {
          "output_type": "stream",
          "text": [
            "\n",
            "Test set: Avg loss: 0.0174, Accuracy: 9947/10000 (99.47%)\n",
            "\n",
            "EPOCH: 38\n"
          ],
          "name": "stdout"
        },
        {
          "output_type": "stream",
          "text": [
            "Loss=0.005441536661237478 Accuracy=99.26: 100%|██████████| 469/469 [00:11<00:00, 39.40it/s]\n",
            "  0%|          | 0/469 [00:00<?, ?it/s]"
          ],
          "name": "stderr"
        },
        {
          "output_type": "stream",
          "text": [
            "\n",
            "Test set: Avg loss: 0.0165, Accuracy: 9948/10000 (99.48%)\n",
            "\n",
            "EPOCH: 39\n"
          ],
          "name": "stdout"
        },
        {
          "output_type": "stream",
          "text": [
            "Loss=0.013151903636753559 Accuracy=99.23: 100%|██████████| 469/469 [00:12<00:00, 38.23it/s]\n"
          ],
          "name": "stderr"
        },
        {
          "output_type": "stream",
          "text": [
            "\n",
            "Test set: Avg loss: 0.0191, Accuracy: 9943/10000 (99.43%)\n",
            "\n"
          ],
          "name": "stdout"
        }
      ]
    },
    {
      "cell_type": "markdown",
      "metadata": {
        "id": "1__x_SbrL7z3",
        "colab_type": "text"
      },
      "source": [
        "# Training and Testing\n",
        "\n",
        "All right, so we have 6.3M params, and that's too many, we know that. But the purpose of this notebook is to set things right for our future experiments. \n",
        "\n",
        "Looking at logs can be boring, so we'll introduce **tqdm** progressbar to get cooler logs. \n",
        "\n",
        "Let's write train and test functions"
      ]
    },
    {
      "cell_type": "code",
      "metadata": {
        "id": "fbkF2nN_LYIb",
        "colab_type": "code",
        "colab": {}
      },
      "source": [
        "from tqdm import tqdm\n",
        "import numpy as np\n",
        "\n",
        "train_losses_l1 = []\n",
        "test_losses_l1 = []\n",
        "train_acc_l1 = []\n",
        "test_acc_l1 = []\n",
        "\n",
        "def train(model, device, train_loader, optimizer, epoch):\n",
        "  model.train()\n",
        "  pbar = tqdm(train_loader)\n",
        "  correct = 0\n",
        "  processed = 0\n",
        "  for batch_idx, (data, target) in enumerate(pbar):\n",
        "    # get samples\n",
        "    data, target = data.to(device), target.to(device)\n",
        "\n",
        "    # Init\n",
        "    optimizer.zero_grad()\n",
        "    # In PyTorch, we need to set the gradients to zero before starting to do backpropragation because PyTorch accumulates the gradients on subsequent backward passes. \n",
        "    # Because of this, when you start your training loop, ideally you should zero out the gradients so that you do the parameter update correctly.\n",
        "\n",
        "    # Predict\n",
        "    y_pred = model(data)\n",
        "\n",
        "    # Calculate loss\n",
        "    loss = F.nll_loss(y_pred, target)\n",
        "    #xx = nn.Parameter(torch.from_numpy(np.ones((3,3))))\n",
        "    #target1 = torch.from_numpy(np.zeros((3,3,16))).to(device)\n",
        "    #l1_crit = nn.L1Loss()\n",
        "    #l1_crit(xx, target)\n",
        "    #l1_crit = nn.L1Loss(size_average=False)\n",
        "    reg_loss = 0\n",
        "    for param in model.parameters():\n",
        "        reg_loss += torch.sum(abs(param))\n",
        "        #if param.dim() > 1:\n",
        "          #lam * param.norm(1)\n",
        "          #reg_loss += param.norm(1)\n",
        "\n",
        "    factor = 0.0001\n",
        "    loss += factor * reg_loss\n",
        "    train_losses_l1.append(loss)\n",
        "\n",
        "    # Backpropagation\n",
        "    loss.backward()\n",
        "    optimizer.step()\n",
        "\n",
        "    # Update pbar-tqdm\n",
        "    \n",
        "    pred = y_pred.argmax(dim=1, keepdim=True)  # get the index of the max log-probability\n",
        "    correct += pred.eq(target.view_as(pred)).sum().item()\n",
        "    processed += len(data)\n",
        "\n",
        "    pbar.set_description(desc= f'Loss={loss.item()} Accuracy={100*correct/processed:0.2f}')\n",
        "    train_acc_l1.append(100*correct/processed)\n",
        "\n",
        "def test(model, device, test_loader):\n",
        "    model.eval()\n",
        "    test_loss = 0\n",
        "    correct = 0\n",
        "    with torch.no_grad():\n",
        "        for data, target in test_loader:\n",
        "            data, target = data.to(device), target.to(device)\n",
        "            output = model(data)\n",
        "            test_loss += F.nll_loss(output, target, reduction='sum').item()  # sum up batch loss\n",
        "            pred = output.argmax(dim=1, keepdim=True)  # get the index of the max log-probability\n",
        "            correct += pred.eq(target.view_as(pred)).sum().item()\n",
        "\n",
        "    test_loss /= len(test_loader.dataset)\n",
        "    test_losses_l1.append(test_loss)\n",
        "\n",
        "    print('\\nTest set: Avg loss: {:.4f}, Accuracy: {}/{} ({:.2f}%)\\n'.format(\n",
        "        test_loss, correct, len(test_loader.dataset),\n",
        "        100. * correct / len(test_loader.dataset)))\n",
        "    \n",
        "    test_acc_l1.append(100. * correct / len(test_loader.dataset))"
      ],
      "execution_count": 0,
      "outputs": []
    },
    {
      "cell_type": "markdown",
      "metadata": {
        "id": "drokW8wWODKq",
        "colab_type": "text"
      },
      "source": [
        "# Let's Train and test our model"
      ]
    },
    {
      "cell_type": "code",
      "metadata": {
        "id": "xMCFxeAKOB53",
        "colab_type": "code",
        "outputId": "51fd0254-bde7-4d27-9917-56126aded7d9",
        "colab": {
          "base_uri": "https://localhost:8080/",
          "height": 1000
        }
      },
      "source": [
        "model =  Net().to(device)\n",
        "optimizer = optim.SGD(model.parameters(), lr=0.008, momentum=0.9)\n",
        "EPOCHS = 40\n",
        "for epoch in range(EPOCHS):\n",
        "    print(\"EPOCH:\", epoch)\n",
        "    train(model, device, train_loader, optimizer, epoch)\n",
        "    test(model, device, test_loader)"
      ],
      "execution_count": 16,
      "outputs": [
        {
          "output_type": "stream",
          "text": [
            "\r  0%|          | 0/469 [00:00<?, ?it/s]"
          ],
          "name": "stderr"
        },
        {
          "output_type": "stream",
          "text": [
            "EPOCH: 0\n"
          ],
          "name": "stdout"
        },
        {
          "output_type": "stream",
          "text": [
            "Loss=0.19367823004722595 Accuracy=85.75: 100%|██████████| 469/469 [00:13<00:00, 34.93it/s]\n",
            "  0%|          | 0/469 [00:00<?, ?it/s]"
          ],
          "name": "stderr"
        },
        {
          "output_type": "stream",
          "text": [
            "\n",
            "Test set: Avg loss: 0.1021, Accuracy: 9727/10000 (97.27%)\n",
            "\n",
            "EPOCH: 1\n"
          ],
          "name": "stdout"
        },
        {
          "output_type": "stream",
          "text": [
            "Loss=0.11708955466747284 Accuracy=97.04: 100%|██████████| 469/469 [00:13<00:00, 33.68it/s]\n",
            "  0%|          | 0/469 [00:00<?, ?it/s]"
          ],
          "name": "stderr"
        },
        {
          "output_type": "stream",
          "text": [
            "\n",
            "Test set: Avg loss: 0.0632, Accuracy: 9821/10000 (98.21%)\n",
            "\n",
            "EPOCH: 2\n"
          ],
          "name": "stdout"
        },
        {
          "output_type": "stream",
          "text": [
            "Loss=0.11993195861577988 Accuracy=97.75: 100%|██████████| 469/469 [00:13<00:00, 34.37it/s]\n",
            "  0%|          | 0/469 [00:00<?, ?it/s]"
          ],
          "name": "stderr"
        },
        {
          "output_type": "stream",
          "text": [
            "\n",
            "Test set: Avg loss: 0.0414, Accuracy: 9877/10000 (98.77%)\n",
            "\n",
            "EPOCH: 3\n"
          ],
          "name": "stdout"
        },
        {
          "output_type": "stream",
          "text": [
            "Loss=0.14196927845478058 Accuracy=98.09: 100%|██████████| 469/469 [00:12<00:00, 36.25it/s]\n",
            "  0%|          | 0/469 [00:00<?, ?it/s]"
          ],
          "name": "stderr"
        },
        {
          "output_type": "stream",
          "text": [
            "\n",
            "Test set: Avg loss: 0.0373, Accuracy: 9886/10000 (98.86%)\n",
            "\n",
            "EPOCH: 4\n"
          ],
          "name": "stdout"
        },
        {
          "output_type": "stream",
          "text": [
            "Loss=0.10013538599014282 Accuracy=98.31: 100%|██████████| 469/469 [00:13<00:00, 35.62it/s]\n",
            "  0%|          | 0/469 [00:00<?, ?it/s]"
          ],
          "name": "stderr"
        },
        {
          "output_type": "stream",
          "text": [
            "\n",
            "Test set: Avg loss: 0.0369, Accuracy: 9879/10000 (98.79%)\n",
            "\n",
            "EPOCH: 5\n"
          ],
          "name": "stdout"
        },
        {
          "output_type": "stream",
          "text": [
            "Loss=0.10667720437049866 Accuracy=98.34: 100%|██████████| 469/469 [00:12<00:00, 36.22it/s]\n",
            "  0%|          | 0/469 [00:00<?, ?it/s]"
          ],
          "name": "stderr"
        },
        {
          "output_type": "stream",
          "text": [
            "\n",
            "Test set: Avg loss: 0.0319, Accuracy: 9884/10000 (98.84%)\n",
            "\n",
            "EPOCH: 6\n"
          ],
          "name": "stdout"
        },
        {
          "output_type": "stream",
          "text": [
            "Loss=0.09560234099626541 Accuracy=98.48: 100%|██████████| 469/469 [00:12<00:00, 44.70it/s]\n",
            "  0%|          | 0/469 [00:00<?, ?it/s]"
          ],
          "name": "stderr"
        },
        {
          "output_type": "stream",
          "text": [
            "\n",
            "Test set: Avg loss: 0.0302, Accuracy: 9897/10000 (98.97%)\n",
            "\n",
            "EPOCH: 7\n"
          ],
          "name": "stdout"
        },
        {
          "output_type": "stream",
          "text": [
            "Loss=0.12485198676586151 Accuracy=98.59: 100%|██████████| 469/469 [00:12<00:00, 36.55it/s]\n",
            "  0%|          | 0/469 [00:00<?, ?it/s]"
          ],
          "name": "stderr"
        },
        {
          "output_type": "stream",
          "text": [
            "\n",
            "Test set: Avg loss: 0.0280, Accuracy: 9899/10000 (98.99%)\n",
            "\n",
            "EPOCH: 8\n"
          ],
          "name": "stdout"
        },
        {
          "output_type": "stream",
          "text": [
            "Loss=0.08013533055782318 Accuracy=98.61: 100%|██████████| 469/469 [00:13<00:00, 35.62it/s]\n",
            "  0%|          | 0/469 [00:00<?, ?it/s]"
          ],
          "name": "stderr"
        },
        {
          "output_type": "stream",
          "text": [
            "\n",
            "Test set: Avg loss: 0.0255, Accuracy: 9919/10000 (99.19%)\n",
            "\n",
            "EPOCH: 9\n"
          ],
          "name": "stdout"
        },
        {
          "output_type": "stream",
          "text": [
            "Loss=0.07199496775865555 Accuracy=98.69: 100%|██████████| 469/469 [00:13<00:00, 35.92it/s]\n",
            "  0%|          | 0/469 [00:00<?, ?it/s]"
          ],
          "name": "stderr"
        },
        {
          "output_type": "stream",
          "text": [
            "\n",
            "Test set: Avg loss: 0.0325, Accuracy: 9889/10000 (98.89%)\n",
            "\n",
            "EPOCH: 10\n"
          ],
          "name": "stdout"
        },
        {
          "output_type": "stream",
          "text": [
            "Loss=0.06830110400915146 Accuracy=98.67: 100%|██████████| 469/469 [00:13<00:00, 35.24it/s]\n",
            "  0%|          | 0/469 [00:00<?, ?it/s]"
          ],
          "name": "stderr"
        },
        {
          "output_type": "stream",
          "text": [
            "\n",
            "Test set: Avg loss: 0.0260, Accuracy: 9906/10000 (99.06%)\n",
            "\n",
            "EPOCH: 11\n"
          ],
          "name": "stdout"
        },
        {
          "output_type": "stream",
          "text": [
            "Loss=0.07145873457193375 Accuracy=98.73: 100%|██████████| 469/469 [00:12<00:00, 36.30it/s]\n",
            "  0%|          | 0/469 [00:00<?, ?it/s]"
          ],
          "name": "stderr"
        },
        {
          "output_type": "stream",
          "text": [
            "\n",
            "Test set: Avg loss: 0.0326, Accuracy: 9884/10000 (98.84%)\n",
            "\n",
            "EPOCH: 12\n"
          ],
          "name": "stdout"
        },
        {
          "output_type": "stream",
          "text": [
            "Loss=0.07105273753404617 Accuracy=98.73: 100%|██████████| 469/469 [00:13<00:00, 35.99it/s]\n",
            "  0%|          | 0/469 [00:00<?, ?it/s]"
          ],
          "name": "stderr"
        },
        {
          "output_type": "stream",
          "text": [
            "\n",
            "Test set: Avg loss: 0.0275, Accuracy: 9907/10000 (99.07%)\n",
            "\n",
            "EPOCH: 13\n"
          ],
          "name": "stdout"
        },
        {
          "output_type": "stream",
          "text": [
            "Loss=0.086819127202034 Accuracy=98.73: 100%|██████████| 469/469 [00:12<00:00, 36.34it/s]\n",
            "  0%|          | 0/469 [00:00<?, ?it/s]"
          ],
          "name": "stderr"
        },
        {
          "output_type": "stream",
          "text": [
            "\n",
            "Test set: Avg loss: 0.0265, Accuracy: 9922/10000 (99.22%)\n",
            "\n",
            "EPOCH: 14\n"
          ],
          "name": "stdout"
        },
        {
          "output_type": "stream",
          "text": [
            "Loss=0.08056465536355972 Accuracy=98.70: 100%|██████████| 469/469 [00:12<00:00, 36.17it/s]\n",
            "  0%|          | 0/469 [00:00<?, ?it/s]"
          ],
          "name": "stderr"
        },
        {
          "output_type": "stream",
          "text": [
            "\n",
            "Test set: Avg loss: 0.0268, Accuracy: 9913/10000 (99.13%)\n",
            "\n",
            "EPOCH: 15\n"
          ],
          "name": "stdout"
        },
        {
          "output_type": "stream",
          "text": [
            "Loss=0.09531727433204651 Accuracy=98.78: 100%|██████████| 469/469 [00:12<00:00, 36.52it/s]\n",
            "  0%|          | 0/469 [00:00<?, ?it/s]"
          ],
          "name": "stderr"
        },
        {
          "output_type": "stream",
          "text": [
            "\n",
            "Test set: Avg loss: 0.0241, Accuracy: 9921/10000 (99.21%)\n",
            "\n",
            "EPOCH: 16\n"
          ],
          "name": "stdout"
        },
        {
          "output_type": "stream",
          "text": [
            "Loss=0.06018327921628952 Accuracy=98.82: 100%|██████████| 469/469 [00:12<00:00, 37.42it/s]\n",
            "  0%|          | 0/469 [00:00<?, ?it/s]"
          ],
          "name": "stderr"
        },
        {
          "output_type": "stream",
          "text": [
            "\n",
            "Test set: Avg loss: 0.0271, Accuracy: 9907/10000 (99.07%)\n",
            "\n",
            "EPOCH: 17\n"
          ],
          "name": "stdout"
        },
        {
          "output_type": "stream",
          "text": [
            "Loss=0.06512108445167542 Accuracy=98.79: 100%|██████████| 469/469 [00:12<00:00, 36.49it/s]\n",
            "  0%|          | 0/469 [00:00<?, ?it/s]"
          ],
          "name": "stderr"
        },
        {
          "output_type": "stream",
          "text": [
            "\n",
            "Test set: Avg loss: 0.0308, Accuracy: 9890/10000 (98.90%)\n",
            "\n",
            "EPOCH: 18\n"
          ],
          "name": "stdout"
        },
        {
          "output_type": "stream",
          "text": [
            "Loss=0.08004459738731384 Accuracy=98.86: 100%|██████████| 469/469 [00:13<00:00, 35.28it/s]\n",
            "  0%|          | 0/469 [00:00<?, ?it/s]"
          ],
          "name": "stderr"
        },
        {
          "output_type": "stream",
          "text": [
            "\n",
            "Test set: Avg loss: 0.0240, Accuracy: 9922/10000 (99.22%)\n",
            "\n",
            "EPOCH: 19\n"
          ],
          "name": "stdout"
        },
        {
          "output_type": "stream",
          "text": [
            "Loss=0.09238773584365845 Accuracy=98.76: 100%|██████████| 469/469 [00:12<00:00, 36.25it/s]\n",
            "  0%|          | 0/469 [00:00<?, ?it/s]"
          ],
          "name": "stderr"
        },
        {
          "output_type": "stream",
          "text": [
            "\n",
            "Test set: Avg loss: 0.0245, Accuracy: 9917/10000 (99.17%)\n",
            "\n",
            "EPOCH: 20\n"
          ],
          "name": "stdout"
        },
        {
          "output_type": "stream",
          "text": [
            "Loss=0.09406334906816483 Accuracy=98.81: 100%|██████████| 469/469 [00:12<00:00, 37.77it/s]\n",
            "  0%|          | 0/469 [00:00<?, ?it/s]"
          ],
          "name": "stderr"
        },
        {
          "output_type": "stream",
          "text": [
            "\n",
            "Test set: Avg loss: 0.0249, Accuracy: 9926/10000 (99.26%)\n",
            "\n",
            "EPOCH: 21\n"
          ],
          "name": "stdout"
        },
        {
          "output_type": "stream",
          "text": [
            "Loss=0.07779511064291 Accuracy=98.86: 100%|██████████| 469/469 [00:12<00:00, 36.49it/s]\n",
            "  0%|          | 0/469 [00:00<?, ?it/s]"
          ],
          "name": "stderr"
        },
        {
          "output_type": "stream",
          "text": [
            "\n",
            "Test set: Avg loss: 0.0244, Accuracy: 9923/10000 (99.23%)\n",
            "\n",
            "EPOCH: 22\n"
          ],
          "name": "stdout"
        },
        {
          "output_type": "stream",
          "text": [
            "Loss=0.0724337100982666 Accuracy=98.85: 100%|██████████| 469/469 [00:13<00:00, 36.01it/s]\n",
            "  0%|          | 0/469 [00:00<?, ?it/s]"
          ],
          "name": "stderr"
        },
        {
          "output_type": "stream",
          "text": [
            "\n",
            "Test set: Avg loss: 0.0241, Accuracy: 9922/10000 (99.22%)\n",
            "\n",
            "EPOCH: 23\n"
          ],
          "name": "stdout"
        },
        {
          "output_type": "stream",
          "text": [
            "Loss=0.09332773089408875 Accuracy=98.86: 100%|██████████| 469/469 [00:12<00:00, 36.25it/s]\n",
            "  0%|          | 0/469 [00:00<?, ?it/s]"
          ],
          "name": "stderr"
        },
        {
          "output_type": "stream",
          "text": [
            "\n",
            "Test set: Avg loss: 0.0247, Accuracy: 9925/10000 (99.25%)\n",
            "\n",
            "EPOCH: 24\n"
          ],
          "name": "stdout"
        },
        {
          "output_type": "stream",
          "text": [
            "Loss=0.06515240669250488 Accuracy=98.86: 100%|██████████| 469/469 [00:12<00:00, 37.05it/s]\n",
            "  0%|          | 0/469 [00:00<?, ?it/s]"
          ],
          "name": "stderr"
        },
        {
          "output_type": "stream",
          "text": [
            "\n",
            "Test set: Avg loss: 0.0207, Accuracy: 9941/10000 (99.41%)\n",
            "\n",
            "EPOCH: 25\n"
          ],
          "name": "stdout"
        },
        {
          "output_type": "stream",
          "text": [
            "Loss=0.11461126804351807 Accuracy=98.89: 100%|██████████| 469/469 [00:12<00:00, 36.61it/s]\n",
            "  0%|          | 0/469 [00:00<?, ?it/s]"
          ],
          "name": "stderr"
        },
        {
          "output_type": "stream",
          "text": [
            "\n",
            "Test set: Avg loss: 0.0221, Accuracy: 9935/10000 (99.35%)\n",
            "\n",
            "EPOCH: 26\n"
          ],
          "name": "stdout"
        },
        {
          "output_type": "stream",
          "text": [
            "Loss=0.08788740634918213 Accuracy=98.87: 100%|██████████| 469/469 [00:13<00:00, 35.81it/s]\n",
            "  0%|          | 0/469 [00:00<?, ?it/s]"
          ],
          "name": "stderr"
        },
        {
          "output_type": "stream",
          "text": [
            "\n",
            "Test set: Avg loss: 0.0241, Accuracy: 9924/10000 (99.24%)\n",
            "\n",
            "EPOCH: 27\n"
          ],
          "name": "stdout"
        },
        {
          "output_type": "stream",
          "text": [
            "Loss=0.07307475060224533 Accuracy=98.96: 100%|██████████| 469/469 [00:12<00:00, 36.59it/s]\n",
            "  0%|          | 0/469 [00:00<?, ?it/s]"
          ],
          "name": "stderr"
        },
        {
          "output_type": "stream",
          "text": [
            "\n",
            "Test set: Avg loss: 0.0249, Accuracy: 9911/10000 (99.11%)\n",
            "\n",
            "EPOCH: 28\n"
          ],
          "name": "stdout"
        },
        {
          "output_type": "stream",
          "text": [
            "Loss=0.11450636386871338 Accuracy=98.89: 100%|██████████| 469/469 [00:12<00:00, 37.23it/s]\n",
            "  0%|          | 0/469 [00:00<?, ?it/s]"
          ],
          "name": "stderr"
        },
        {
          "output_type": "stream",
          "text": [
            "\n",
            "Test set: Avg loss: 0.0252, Accuracy: 9915/10000 (99.15%)\n",
            "\n",
            "EPOCH: 29\n"
          ],
          "name": "stdout"
        },
        {
          "output_type": "stream",
          "text": [
            "Loss=0.07302866876125336 Accuracy=98.99: 100%|██████████| 469/469 [00:12<00:00, 36.33it/s]\n",
            "  0%|          | 0/469 [00:00<?, ?it/s]"
          ],
          "name": "stderr"
        },
        {
          "output_type": "stream",
          "text": [
            "\n",
            "Test set: Avg loss: 0.0208, Accuracy: 9933/10000 (99.33%)\n",
            "\n",
            "EPOCH: 30\n"
          ],
          "name": "stdout"
        },
        {
          "output_type": "stream",
          "text": [
            "Loss=0.10376831889152527 Accuracy=98.93: 100%|██████████| 469/469 [00:12<00:00, 42.66it/s]\n",
            "  0%|          | 0/469 [00:00<?, ?it/s]"
          ],
          "name": "stderr"
        },
        {
          "output_type": "stream",
          "text": [
            "\n",
            "Test set: Avg loss: 0.0255, Accuracy: 9921/10000 (99.21%)\n",
            "\n",
            "EPOCH: 31\n"
          ],
          "name": "stdout"
        },
        {
          "output_type": "stream",
          "text": [
            "Loss=0.07255908101797104 Accuracy=98.86: 100%|██████████| 469/469 [00:12<00:00, 36.70it/s]\n",
            "  0%|          | 0/469 [00:00<?, ?it/s]"
          ],
          "name": "stderr"
        },
        {
          "output_type": "stream",
          "text": [
            "\n",
            "Test set: Avg loss: 0.0219, Accuracy: 9925/10000 (99.25%)\n",
            "\n",
            "EPOCH: 32\n"
          ],
          "name": "stdout"
        },
        {
          "output_type": "stream",
          "text": [
            "Loss=0.09905973821878433 Accuracy=98.88: 100%|██████████| 469/469 [00:12<00:00, 37.01it/s]\n",
            "  0%|          | 0/469 [00:00<?, ?it/s]"
          ],
          "name": "stderr"
        },
        {
          "output_type": "stream",
          "text": [
            "\n",
            "Test set: Avg loss: 0.0246, Accuracy: 9924/10000 (99.24%)\n",
            "\n",
            "EPOCH: 33\n"
          ],
          "name": "stdout"
        },
        {
          "output_type": "stream",
          "text": [
            "Loss=0.08284304291009903 Accuracy=98.94: 100%|██████████| 469/469 [00:12<00:00, 37.17it/s]\n",
            "  0%|          | 0/469 [00:00<?, ?it/s]"
          ],
          "name": "stderr"
        },
        {
          "output_type": "stream",
          "text": [
            "\n",
            "Test set: Avg loss: 0.0259, Accuracy: 9918/10000 (99.18%)\n",
            "\n",
            "EPOCH: 34\n"
          ],
          "name": "stdout"
        },
        {
          "output_type": "stream",
          "text": [
            "Loss=0.11143295466899872 Accuracy=98.91: 100%|██████████| 469/469 [00:12<00:00, 36.28it/s]\n",
            "  0%|          | 0/469 [00:00<?, ?it/s]"
          ],
          "name": "stderr"
        },
        {
          "output_type": "stream",
          "text": [
            "\n",
            "Test set: Avg loss: 0.0239, Accuracy: 9916/10000 (99.16%)\n",
            "\n",
            "EPOCH: 35\n"
          ],
          "name": "stdout"
        },
        {
          "output_type": "stream",
          "text": [
            "Loss=0.17157800495624542 Accuracy=98.95: 100%|██████████| 469/469 [00:13<00:00, 35.26it/s]\n",
            "  0%|          | 0/469 [00:00<?, ?it/s]"
          ],
          "name": "stderr"
        },
        {
          "output_type": "stream",
          "text": [
            "\n",
            "Test set: Avg loss: 0.0208, Accuracy: 9934/10000 (99.34%)\n",
            "\n",
            "EPOCH: 36\n"
          ],
          "name": "stdout"
        },
        {
          "output_type": "stream",
          "text": [
            "Loss=0.07599148899316788 Accuracy=98.98: 100%|██████████| 469/469 [00:13<00:00, 36.04it/s]\n",
            "  0%|          | 0/469 [00:00<?, ?it/s]"
          ],
          "name": "stderr"
        },
        {
          "output_type": "stream",
          "text": [
            "\n",
            "Test set: Avg loss: 0.0203, Accuracy: 9939/10000 (99.39%)\n",
            "\n",
            "EPOCH: 37\n"
          ],
          "name": "stdout"
        },
        {
          "output_type": "stream",
          "text": [
            "Loss=0.09839741885662079 Accuracy=98.94: 100%|██████████| 469/469 [00:12<00:00, 36.81it/s]\n",
            "  0%|          | 0/469 [00:00<?, ?it/s]"
          ],
          "name": "stderr"
        },
        {
          "output_type": "stream",
          "text": [
            "\n",
            "Test set: Avg loss: 0.0221, Accuracy: 9921/10000 (99.21%)\n",
            "\n",
            "EPOCH: 38\n"
          ],
          "name": "stdout"
        },
        {
          "output_type": "stream",
          "text": [
            "Loss=0.10098565369844437 Accuracy=98.95: 100%|██████████| 469/469 [00:12<00:00, 36.13it/s]\n",
            "  0%|          | 0/469 [00:00<?, ?it/s]"
          ],
          "name": "stderr"
        },
        {
          "output_type": "stream",
          "text": [
            "\n",
            "Test set: Avg loss: 0.0254, Accuracy: 9916/10000 (99.16%)\n",
            "\n",
            "EPOCH: 39\n"
          ],
          "name": "stdout"
        },
        {
          "output_type": "stream",
          "text": [
            "Loss=0.11989995092153549 Accuracy=98.92: 100%|██████████| 469/469 [00:13<00:00, 35.90it/s]\n"
          ],
          "name": "stderr"
        },
        {
          "output_type": "stream",
          "text": [
            "\n",
            "Test set: Avg loss: 0.0181, Accuracy: 9943/10000 (99.43%)\n",
            "\n"
          ],
          "name": "stdout"
        }
      ]
    },
    {
      "cell_type": "code",
      "metadata": {
        "id": "3CEox5x9ND17",
        "colab_type": "code",
        "colab": {}
      },
      "source": [
        "from tqdm import tqdm\n",
        "import numpy as np\n",
        "\n",
        "train_losses_l2 = []\n",
        "test_losses_l2 = []\n",
        "train_acc_l2 = []\n",
        "test_acc_l2 = []\n",
        "\n",
        "def train(model, device, train_loader, optimizer, epoch):\n",
        "  model.train()\n",
        "  pbar = tqdm(train_loader)\n",
        "  correct = 0\n",
        "  processed = 0\n",
        "  for batch_idx, (data, target) in enumerate(pbar):\n",
        "    # get samples\n",
        "    data, target = data.to(device), target.to(device)\n",
        "\n",
        "    # Init\n",
        "    optimizer.zero_grad()\n",
        "    # In PyTorch, we need to set the gradients to zero before starting to do backpropragation because PyTorch accumulates the gradients on subsequent backward passes. \n",
        "    # Because of this, when you start your training loop, ideally you should zero out the gradients so that you do the parameter update correctly.\n",
        "\n",
        "    # Predict\n",
        "    y_pred = model(data)\n",
        "\n",
        "    # Calculate loss\n",
        "    loss = F.nll_loss(y_pred, target)\n",
        "\n",
        "    train_losses_l2.append(loss)\n",
        "\n",
        "    # Backpropagation\n",
        "    loss.backward()\n",
        "    optimizer.step()\n",
        "\n",
        "    # Update pbar-tqdm\n",
        "    \n",
        "    pred = y_pred.argmax(dim=1, keepdim=True)  # get the index of the max log-probability\n",
        "    correct += pred.eq(target.view_as(pred)).sum().item()\n",
        "    processed += len(data)\n",
        "\n",
        "    pbar.set_description(desc= f'Loss={loss.item()} Batch_id={batch_idx} Accuracy={100*correct/processed:0.2f}')\n",
        "    train_acc_l2.append(100*correct/processed)\n",
        "\n",
        "def test(model, device, test_loader):\n",
        "    model.eval()\n",
        "    test_loss = 0\n",
        "    correct = 0\n",
        "    wrong_class_images=[]\n",
        "    with torch.no_grad():\n",
        "        for data, target in test_loader:\n",
        "            data, target = data.to(device), target.to(device)\n",
        "            output = model(data)\n",
        "            test_loss += F.nll_loss(output, target, reduction='sum').item()  # sum up batch loss\n",
        "            pred = output.argmax(dim=1, keepdim=True)  # get the index of the max log-probability\n",
        "            correct += pred.eq(target.view_as(pred)).sum().item()\n",
        "            \n",
        "\n",
        "    test_loss /= len(test_loader.dataset)\n",
        "    test_losses_l2.append(test_loss)\n",
        "\n",
        "    print('\\nTest set: Avg loss: {:.4f}, Accuracy: {}/{} ({:.2f}%)\\n'.format(\n",
        "        test_loss, correct, len(test_loader.dataset),\n",
        "        100. * correct / len(test_loader.dataset)))\n",
        "    \n",
        "    test_acc_l2.append(100. * correct / len(test_loader.dataset))"
      ],
      "execution_count": 0,
      "outputs": []
    },
    {
      "cell_type": "code",
      "metadata": {
        "id": "l7LpZvQGNFKH",
        "colab_type": "code",
        "outputId": "cb382118-1aec-4f01-d554-3ba171a6d4ef",
        "colab": {
          "base_uri": "https://localhost:8080/",
          "height": 1000
        }
      },
      "source": [
        "model =  Net().to(device)\n",
        "optimizer = optim.SGD(model.parameters(), lr=0.008, momentum=0.9, weight_decay=0.0001)\n",
        "EPOCHS = 40\n",
        "for epoch in range(EPOCHS):\n",
        "    print(\"EPOCH:\", epoch)\n",
        "    train(model, device, train_loader, optimizer, epoch)\n",
        "    test(model, device, test_loader)"
      ],
      "execution_count": 18,
      "outputs": [
        {
          "output_type": "stream",
          "text": [
            "\r  0%|          | 0/469 [00:00<?, ?it/s]"
          ],
          "name": "stderr"
        },
        {
          "output_type": "stream",
          "text": [
            "EPOCH: 0\n"
          ],
          "name": "stdout"
        },
        {
          "output_type": "stream",
          "text": [
            "Loss=0.09561777114868164 Batch_id=468 Accuracy=85.69: 100%|██████████| 469/469 [00:12<00:00, 38.54it/s]\n",
            "  0%|          | 0/469 [00:00<?, ?it/s]"
          ],
          "name": "stderr"
        },
        {
          "output_type": "stream",
          "text": [
            "\n",
            "Test set: Avg loss: 0.2500, Accuracy: 9238/10000 (92.38%)\n",
            "\n",
            "EPOCH: 1\n"
          ],
          "name": "stdout"
        },
        {
          "output_type": "stream",
          "text": [
            "Loss=0.04531943425536156 Batch_id=468 Accuracy=97.07: 100%|██████████| 469/469 [00:12<00:00, 36.39it/s]\n",
            "  0%|          | 0/469 [00:00<?, ?it/s]"
          ],
          "name": "stderr"
        },
        {
          "output_type": "stream",
          "text": [
            "\n",
            "Test set: Avg loss: 0.0663, Accuracy: 9804/10000 (98.04%)\n",
            "\n",
            "EPOCH: 2\n"
          ],
          "name": "stdout"
        },
        {
          "output_type": "stream",
          "text": [
            "Loss=0.08037713170051575 Batch_id=468 Accuracy=97.79: 100%|██████████| 469/469 [00:12<00:00, 37.54it/s]\n",
            "  0%|          | 0/469 [00:00<?, ?it/s]"
          ],
          "name": "stderr"
        },
        {
          "output_type": "stream",
          "text": [
            "\n",
            "Test set: Avg loss: 0.0562, Accuracy: 9846/10000 (98.46%)\n",
            "\n",
            "EPOCH: 3\n"
          ],
          "name": "stdout"
        },
        {
          "output_type": "stream",
          "text": [
            "Loss=0.02674666978418827 Batch_id=468 Accuracy=98.15: 100%|██████████| 469/469 [00:12<00:00, 46.22it/s]\n",
            "  0%|          | 0/469 [00:00<?, ?it/s]"
          ],
          "name": "stderr"
        },
        {
          "output_type": "stream",
          "text": [
            "\n",
            "Test set: Avg loss: 0.0628, Accuracy: 9817/10000 (98.17%)\n",
            "\n",
            "EPOCH: 4\n"
          ],
          "name": "stdout"
        },
        {
          "output_type": "stream",
          "text": [
            "Loss=0.06382583826780319 Batch_id=468 Accuracy=98.27: 100%|██████████| 469/469 [00:11<00:00, 39.13it/s]\n",
            "  0%|          | 0/469 [00:00<?, ?it/s]"
          ],
          "name": "stderr"
        },
        {
          "output_type": "stream",
          "text": [
            "\n",
            "Test set: Avg loss: 0.0397, Accuracy: 9891/10000 (98.91%)\n",
            "\n",
            "EPOCH: 5\n"
          ],
          "name": "stdout"
        },
        {
          "output_type": "stream",
          "text": [
            "Loss=0.1045452132821083 Batch_id=468 Accuracy=98.46: 100%|██████████| 469/469 [00:11<00:00, 45.19it/s]\n",
            "  0%|          | 0/469 [00:00<?, ?it/s]"
          ],
          "name": "stderr"
        },
        {
          "output_type": "stream",
          "text": [
            "\n",
            "Test set: Avg loss: 0.0382, Accuracy: 9887/10000 (98.87%)\n",
            "\n",
            "EPOCH: 6\n"
          ],
          "name": "stdout"
        },
        {
          "output_type": "stream",
          "text": [
            "Loss=0.04953046143054962 Batch_id=468 Accuracy=98.60: 100%|██████████| 469/469 [00:12<00:00, 39.00it/s]\n",
            "  0%|          | 0/469 [00:00<?, ?it/s]"
          ],
          "name": "stderr"
        },
        {
          "output_type": "stream",
          "text": [
            "\n",
            "Test set: Avg loss: 0.0372, Accuracy: 9885/10000 (98.85%)\n",
            "\n",
            "EPOCH: 7\n"
          ],
          "name": "stdout"
        },
        {
          "output_type": "stream",
          "text": [
            "Loss=0.05843029543757439 Batch_id=468 Accuracy=98.62: 100%|██████████| 469/469 [00:12<00:00, 43.38it/s]\n",
            "  0%|          | 0/469 [00:00<?, ?it/s]"
          ],
          "name": "stderr"
        },
        {
          "output_type": "stream",
          "text": [
            "\n",
            "Test set: Avg loss: 0.0315, Accuracy: 9900/10000 (99.00%)\n",
            "\n",
            "EPOCH: 8\n"
          ],
          "name": "stdout"
        },
        {
          "output_type": "stream",
          "text": [
            "Loss=0.057593267410993576 Batch_id=468 Accuracy=98.68: 100%|██████████| 469/469 [00:12<00:00, 38.48it/s]\n",
            "  0%|          | 0/469 [00:00<?, ?it/s]"
          ],
          "name": "stderr"
        },
        {
          "output_type": "stream",
          "text": [
            "\n",
            "Test set: Avg loss: 0.0342, Accuracy: 9897/10000 (98.97%)\n",
            "\n",
            "EPOCH: 9\n"
          ],
          "name": "stdout"
        },
        {
          "output_type": "stream",
          "text": [
            "Loss=0.08477655798196793 Batch_id=468 Accuracy=98.64: 100%|██████████| 469/469 [00:11<00:00, 39.86it/s]\n",
            "  0%|          | 0/469 [00:00<?, ?it/s]"
          ],
          "name": "stderr"
        },
        {
          "output_type": "stream",
          "text": [
            "\n",
            "Test set: Avg loss: 0.0343, Accuracy: 9897/10000 (98.97%)\n",
            "\n",
            "EPOCH: 10\n"
          ],
          "name": "stdout"
        },
        {
          "output_type": "stream",
          "text": [
            "Loss=0.013662208802998066 Batch_id=468 Accuracy=98.77: 100%|██████████| 469/469 [00:12<00:00, 38.44it/s]\n",
            "  0%|          | 0/469 [00:00<?, ?it/s]"
          ],
          "name": "stderr"
        },
        {
          "output_type": "stream",
          "text": [
            "\n",
            "Test set: Avg loss: 0.0308, Accuracy: 9902/10000 (99.02%)\n",
            "\n",
            "EPOCH: 11\n"
          ],
          "name": "stdout"
        },
        {
          "output_type": "stream",
          "text": [
            "Loss=0.05974092707037926 Batch_id=468 Accuracy=98.85: 100%|██████████| 469/469 [00:12<00:00, 38.31it/s]\n",
            "  0%|          | 0/469 [00:00<?, ?it/s]"
          ],
          "name": "stderr"
        },
        {
          "output_type": "stream",
          "text": [
            "\n",
            "Test set: Avg loss: 0.0313, Accuracy: 9897/10000 (98.97%)\n",
            "\n",
            "EPOCH: 12\n"
          ],
          "name": "stdout"
        },
        {
          "output_type": "stream",
          "text": [
            "Loss=0.032379377633333206 Batch_id=468 Accuracy=98.84: 100%|██████████| 469/469 [00:12<00:00, 38.88it/s]\n",
            "  0%|          | 0/469 [00:00<?, ?it/s]"
          ],
          "name": "stderr"
        },
        {
          "output_type": "stream",
          "text": [
            "\n",
            "Test set: Avg loss: 0.0324, Accuracy: 9902/10000 (99.02%)\n",
            "\n",
            "EPOCH: 13\n"
          ],
          "name": "stdout"
        },
        {
          "output_type": "stream",
          "text": [
            "Loss=0.033630531281232834 Batch_id=468 Accuracy=98.91: 100%|██████████| 469/469 [00:12<00:00, 38.98it/s]\n",
            "  0%|          | 0/469 [00:00<?, ?it/s]"
          ],
          "name": "stderr"
        },
        {
          "output_type": "stream",
          "text": [
            "\n",
            "Test set: Avg loss: 0.0283, Accuracy: 9910/10000 (99.10%)\n",
            "\n",
            "EPOCH: 14\n"
          ],
          "name": "stdout"
        },
        {
          "output_type": "stream",
          "text": [
            "Loss=0.014581789262592793 Batch_id=468 Accuracy=98.85: 100%|██████████| 469/469 [00:12<00:00, 37.51it/s]\n",
            "  0%|          | 0/469 [00:00<?, ?it/s]"
          ],
          "name": "stderr"
        },
        {
          "output_type": "stream",
          "text": [
            "\n",
            "Test set: Avg loss: 0.0283, Accuracy: 9910/10000 (99.10%)\n",
            "\n",
            "EPOCH: 15\n"
          ],
          "name": "stdout"
        },
        {
          "output_type": "stream",
          "text": [
            "Loss=0.014587040059268475 Batch_id=468 Accuracy=98.96: 100%|██████████| 469/469 [00:12<00:00, 38.01it/s]\n",
            "  0%|          | 0/469 [00:00<?, ?it/s]"
          ],
          "name": "stderr"
        },
        {
          "output_type": "stream",
          "text": [
            "\n",
            "Test set: Avg loss: 0.0279, Accuracy: 9915/10000 (99.15%)\n",
            "\n",
            "EPOCH: 16\n"
          ],
          "name": "stdout"
        },
        {
          "output_type": "stream",
          "text": [
            "Loss=0.007270639296621084 Batch_id=468 Accuracy=98.94: 100%|██████████| 469/469 [00:12<00:00, 37.51it/s]\n",
            "  0%|          | 0/469 [00:00<?, ?it/s]"
          ],
          "name": "stderr"
        },
        {
          "output_type": "stream",
          "text": [
            "\n",
            "Test set: Avg loss: 0.0263, Accuracy: 9923/10000 (99.23%)\n",
            "\n",
            "EPOCH: 17\n"
          ],
          "name": "stdout"
        },
        {
          "output_type": "stream",
          "text": [
            "Loss=0.0241019818931818 Batch_id=468 Accuracy=99.00: 100%|██████████| 469/469 [00:12<00:00, 45.26it/s]\n",
            "  0%|          | 0/469 [00:00<?, ?it/s]"
          ],
          "name": "stderr"
        },
        {
          "output_type": "stream",
          "text": [
            "\n",
            "Test set: Avg loss: 0.0267, Accuracy: 9912/10000 (99.12%)\n",
            "\n",
            "EPOCH: 18\n"
          ],
          "name": "stdout"
        },
        {
          "output_type": "stream",
          "text": [
            "Loss=0.020301729440689087 Batch_id=468 Accuracy=98.98: 100%|██████████| 469/469 [00:12<00:00, 38.09it/s]\n",
            "  0%|          | 0/469 [00:00<?, ?it/s]"
          ],
          "name": "stderr"
        },
        {
          "output_type": "stream",
          "text": [
            "\n",
            "Test set: Avg loss: 0.0260, Accuracy: 9923/10000 (99.23%)\n",
            "\n",
            "EPOCH: 19\n"
          ],
          "name": "stdout"
        },
        {
          "output_type": "stream",
          "text": [
            "Loss=0.019457921385765076 Batch_id=468 Accuracy=99.06: 100%|██████████| 469/469 [00:12<00:00, 36.43it/s]\n",
            "  0%|          | 0/469 [00:00<?, ?it/s]"
          ],
          "name": "stderr"
        },
        {
          "output_type": "stream",
          "text": [
            "\n",
            "Test set: Avg loss: 0.0277, Accuracy: 9916/10000 (99.16%)\n",
            "\n",
            "EPOCH: 20\n"
          ],
          "name": "stdout"
        },
        {
          "output_type": "stream",
          "text": [
            "Loss=0.039283983409404755 Batch_id=468 Accuracy=99.05: 100%|██████████| 469/469 [00:12<00:00, 37.00it/s]\n",
            "  0%|          | 0/469 [00:00<?, ?it/s]"
          ],
          "name": "stderr"
        },
        {
          "output_type": "stream",
          "text": [
            "\n",
            "Test set: Avg loss: 0.0271, Accuracy: 9923/10000 (99.23%)\n",
            "\n",
            "EPOCH: 21\n"
          ],
          "name": "stdout"
        },
        {
          "output_type": "stream",
          "text": [
            "Loss=0.09378242492675781 Batch_id=468 Accuracy=99.06: 100%|██████████| 469/469 [00:12<00:00, 36.93it/s]\n",
            "  0%|          | 0/469 [00:00<?, ?it/s]"
          ],
          "name": "stderr"
        },
        {
          "output_type": "stream",
          "text": [
            "\n",
            "Test set: Avg loss: 0.0248, Accuracy: 9921/10000 (99.21%)\n",
            "\n",
            "EPOCH: 22\n"
          ],
          "name": "stdout"
        },
        {
          "output_type": "stream",
          "text": [
            "Loss=0.061968881636857986 Batch_id=468 Accuracy=99.03: 100%|██████████| 469/469 [00:12<00:00, 38.04it/s]\n",
            "  0%|          | 0/469 [00:00<?, ?it/s]"
          ],
          "name": "stderr"
        },
        {
          "output_type": "stream",
          "text": [
            "\n",
            "Test set: Avg loss: 0.0265, Accuracy: 9908/10000 (99.08%)\n",
            "\n",
            "EPOCH: 23\n"
          ],
          "name": "stdout"
        },
        {
          "output_type": "stream",
          "text": [
            "Loss=0.0679510161280632 Batch_id=468 Accuracy=99.06: 100%|██████████| 469/469 [00:12<00:00, 36.57it/s]\n",
            "  0%|          | 0/469 [00:00<?, ?it/s]"
          ],
          "name": "stderr"
        },
        {
          "output_type": "stream",
          "text": [
            "\n",
            "Test set: Avg loss: 0.0264, Accuracy: 9918/10000 (99.18%)\n",
            "\n",
            "EPOCH: 24\n"
          ],
          "name": "stdout"
        },
        {
          "output_type": "stream",
          "text": [
            "Loss=0.010742053389549255 Batch_id=468 Accuracy=99.11: 100%|██████████| 469/469 [00:12<00:00, 36.51it/s]\n",
            "  0%|          | 0/469 [00:00<?, ?it/s]"
          ],
          "name": "stderr"
        },
        {
          "output_type": "stream",
          "text": [
            "\n",
            "Test set: Avg loss: 0.0248, Accuracy: 9917/10000 (99.17%)\n",
            "\n",
            "EPOCH: 25\n"
          ],
          "name": "stdout"
        },
        {
          "output_type": "stream",
          "text": [
            "Loss=0.01617804728448391 Batch_id=468 Accuracy=99.09: 100%|██████████| 469/469 [00:13<00:00, 35.63it/s]\n",
            "  0%|          | 0/469 [00:00<?, ?it/s]"
          ],
          "name": "stderr"
        },
        {
          "output_type": "stream",
          "text": [
            "\n",
            "Test set: Avg loss: 0.0267, Accuracy: 9911/10000 (99.11%)\n",
            "\n",
            "EPOCH: 26\n"
          ],
          "name": "stdout"
        },
        {
          "output_type": "stream",
          "text": [
            "Loss=0.047126155346632004 Batch_id=468 Accuracy=99.08: 100%|██████████| 469/469 [00:12<00:00, 37.61it/s]\n",
            "  0%|          | 0/469 [00:00<?, ?it/s]"
          ],
          "name": "stderr"
        },
        {
          "output_type": "stream",
          "text": [
            "\n",
            "Test set: Avg loss: 0.0254, Accuracy: 9918/10000 (99.18%)\n",
            "\n",
            "EPOCH: 27\n"
          ],
          "name": "stdout"
        },
        {
          "output_type": "stream",
          "text": [
            "Loss=0.0040097832679748535 Batch_id=468 Accuracy=99.11: 100%|██████████| 469/469 [00:12<00:00, 36.51it/s]\n",
            "  0%|          | 0/469 [00:00<?, ?it/s]"
          ],
          "name": "stderr"
        },
        {
          "output_type": "stream",
          "text": [
            "\n",
            "Test set: Avg loss: 0.0259, Accuracy: 9913/10000 (99.13%)\n",
            "\n",
            "EPOCH: 28\n"
          ],
          "name": "stdout"
        },
        {
          "output_type": "stream",
          "text": [
            "Loss=0.01749347150325775 Batch_id=468 Accuracy=99.14: 100%|██████████| 469/469 [00:12<00:00, 36.53it/s]\n",
            "  0%|          | 0/469 [00:00<?, ?it/s]"
          ],
          "name": "stderr"
        },
        {
          "output_type": "stream",
          "text": [
            "\n",
            "Test set: Avg loss: 0.0242, Accuracy: 9920/10000 (99.20%)\n",
            "\n",
            "EPOCH: 29\n"
          ],
          "name": "stdout"
        },
        {
          "output_type": "stream",
          "text": [
            "Loss=0.026825526729226112 Batch_id=468 Accuracy=99.14: 100%|██████████| 469/469 [00:12<00:00, 37.96it/s]\n",
            "  0%|          | 0/469 [00:00<?, ?it/s]"
          ],
          "name": "stderr"
        },
        {
          "output_type": "stream",
          "text": [
            "\n",
            "Test set: Avg loss: 0.0242, Accuracy: 9923/10000 (99.23%)\n",
            "\n",
            "EPOCH: 30\n"
          ],
          "name": "stdout"
        },
        {
          "output_type": "stream",
          "text": [
            "Loss=0.029300697147846222 Batch_id=468 Accuracy=99.14: 100%|██████████| 469/469 [00:12<00:00, 38.58it/s]\n",
            "  0%|          | 0/469 [00:00<?, ?it/s]"
          ],
          "name": "stderr"
        },
        {
          "output_type": "stream",
          "text": [
            "\n",
            "Test set: Avg loss: 0.0211, Accuracy: 9931/10000 (99.31%)\n",
            "\n",
            "EPOCH: 31\n"
          ],
          "name": "stdout"
        },
        {
          "output_type": "stream",
          "text": [
            "Loss=0.0329931266605854 Batch_id=468 Accuracy=99.16: 100%|██████████| 469/469 [00:12<00:00, 38.13it/s]\n",
            "  0%|          | 0/469 [00:00<?, ?it/s]"
          ],
          "name": "stderr"
        },
        {
          "output_type": "stream",
          "text": [
            "\n",
            "Test set: Avg loss: 0.0260, Accuracy: 9909/10000 (99.09%)\n",
            "\n",
            "EPOCH: 32\n"
          ],
          "name": "stdout"
        },
        {
          "output_type": "stream",
          "text": [
            "Loss=0.037151020020246506 Batch_id=468 Accuracy=99.17: 100%|██████████| 469/469 [00:12<00:00, 38.17it/s]\n",
            "  0%|          | 0/469 [00:00<?, ?it/s]"
          ],
          "name": "stderr"
        },
        {
          "output_type": "stream",
          "text": [
            "\n",
            "Test set: Avg loss: 0.0217, Accuracy: 9926/10000 (99.26%)\n",
            "\n",
            "EPOCH: 33\n"
          ],
          "name": "stdout"
        },
        {
          "output_type": "stream",
          "text": [
            "Loss=0.007681066635996103 Batch_id=468 Accuracy=99.17: 100%|██████████| 469/469 [00:12<00:00, 38.03it/s]\n",
            "  0%|          | 0/469 [00:00<?, ?it/s]"
          ],
          "name": "stderr"
        },
        {
          "output_type": "stream",
          "text": [
            "\n",
            "Test set: Avg loss: 0.0242, Accuracy: 9912/10000 (99.12%)\n",
            "\n",
            "EPOCH: 34\n"
          ],
          "name": "stdout"
        },
        {
          "output_type": "stream",
          "text": [
            "Loss=0.040603574365377426 Batch_id=468 Accuracy=99.18: 100%|██████████| 469/469 [00:12<00:00, 38.93it/s]\n",
            "  0%|          | 0/469 [00:00<?, ?it/s]"
          ],
          "name": "stderr"
        },
        {
          "output_type": "stream",
          "text": [
            "\n",
            "Test set: Avg loss: 0.0261, Accuracy: 9910/10000 (99.10%)\n",
            "\n",
            "EPOCH: 35\n"
          ],
          "name": "stdout"
        },
        {
          "output_type": "stream",
          "text": [
            "Loss=0.02747703157365322 Batch_id=468 Accuracy=99.17: 100%|██████████| 469/469 [00:11<00:00, 39.48it/s]\n",
            "  0%|          | 0/469 [00:00<?, ?it/s]"
          ],
          "name": "stderr"
        },
        {
          "output_type": "stream",
          "text": [
            "\n",
            "Test set: Avg loss: 0.0217, Accuracy: 9935/10000 (99.35%)\n",
            "\n",
            "EPOCH: 36\n"
          ],
          "name": "stdout"
        },
        {
          "output_type": "stream",
          "text": [
            "Loss=0.06929884105920792 Batch_id=468 Accuracy=99.16: 100%|██████████| 469/469 [00:12<00:00, 37.57it/s]\n",
            "  0%|          | 0/469 [00:00<?, ?it/s]"
          ],
          "name": "stderr"
        },
        {
          "output_type": "stream",
          "text": [
            "\n",
            "Test set: Avg loss: 0.0230, Accuracy: 9925/10000 (99.25%)\n",
            "\n",
            "EPOCH: 37\n"
          ],
          "name": "stdout"
        },
        {
          "output_type": "stream",
          "text": [
            "Loss=0.03853459283709526 Batch_id=468 Accuracy=99.27: 100%|██████████| 469/469 [00:12<00:00, 38.27it/s]\n",
            "  0%|          | 0/469 [00:00<?, ?it/s]"
          ],
          "name": "stderr"
        },
        {
          "output_type": "stream",
          "text": [
            "\n",
            "Test set: Avg loss: 0.0252, Accuracy: 9916/10000 (99.16%)\n",
            "\n",
            "EPOCH: 38\n"
          ],
          "name": "stdout"
        },
        {
          "output_type": "stream",
          "text": [
            "Loss=0.008044962771236897 Batch_id=468 Accuracy=99.14: 100%|██████████| 469/469 [00:12<00:00, 38.66it/s]\n",
            "  0%|          | 0/469 [00:00<?, ?it/s]"
          ],
          "name": "stderr"
        },
        {
          "output_type": "stream",
          "text": [
            "\n",
            "Test set: Avg loss: 0.0218, Accuracy: 9931/10000 (99.31%)\n",
            "\n",
            "EPOCH: 39\n"
          ],
          "name": "stdout"
        },
        {
          "output_type": "stream",
          "text": [
            "Loss=0.04013790190219879 Batch_id=468 Accuracy=99.19: 100%|██████████| 469/469 [00:12<00:00, 39.07it/s]\n"
          ],
          "name": "stderr"
        },
        {
          "output_type": "stream",
          "text": [
            "\n",
            "Test set: Avg loss: 0.0216, Accuracy: 9928/10000 (99.28%)\n",
            "\n"
          ],
          "name": "stdout"
        }
      ]
    },
    {
      "cell_type": "code",
      "metadata": {
        "id": "87RaqGSEOWDe",
        "colab_type": "code",
        "colab": {}
      },
      "source": [
        "from tqdm import tqdm\n",
        "import numpy as np\n",
        "\n",
        "train_losses_l1l2 = []\n",
        "test_losses_l1l2 = []\n",
        "train_acc_l1l2 = []\n",
        "test_acc_l1l2 = []\n",
        "\n",
        "def train(model, device, train_loader, optimizer, epoch):\n",
        "  model.train()\n",
        "  pbar = tqdm(train_loader)\n",
        "  correct = 0\n",
        "  processed = 0\n",
        "  for batch_idx, (data, target) in enumerate(pbar):\n",
        "    # get samples\n",
        "    data, target = data.to(device), target.to(device)\n",
        "\n",
        "    # Init\n",
        "    optimizer.zero_grad()\n",
        "    # In PyTorch, we need to set the gradients to zero before starting to do backpropragation because PyTorch accumulates the gradients on subsequent backward passes. \n",
        "    # Because of this, when you start your training loop, ideally you should zero out the gradients so that you do the parameter update correctly.\n",
        "\n",
        "    # Predict\n",
        "    y_pred = model(data)\n",
        "\n",
        "    # Calculate loss\n",
        "    loss = F.nll_loss(y_pred, target)\n",
        "    #xx = nn.Parameter(torch.from_numpy(np.ones((3,3))))\n",
        "    #target1 = torch.from_numpy(np.zeros((3,3,16))).to(device)\n",
        "    #l1_crit = nn.L1Loss()\n",
        "    #l1_crit(xx, target)\n",
        "    #l1_crit = nn.L1Loss(size_average=False)\n",
        "    reg_loss = 0\n",
        "    for param in model.parameters():\n",
        "        reg_loss += torch.sum(abs(param))\n",
        "        #if param.dim() > 1:\n",
        "          #lam * param.norm(1)\n",
        "          #reg_loss += param.norm(1)\n",
        "\n",
        "    factor = 0.0001\n",
        "    loss += factor * reg_loss\n",
        "    train_losses_l1l2.append(loss)\n",
        "\n",
        "    # Backpropagation\n",
        "    loss.backward()\n",
        "    optimizer.step()\n",
        "\n",
        "    # Update pbar-tqdm\n",
        "    \n",
        "    pred = y_pred.argmax(dim=1, keepdim=True)  # get the index of the max log-probability\n",
        "    correct += pred.eq(target.view_as(pred)).sum().item()\n",
        "    processed += len(data)\n",
        "\n",
        "    pbar.set_description(desc= f'Loss={loss.item()} Batch_id={batch_idx} Accuracy={100*correct/processed:0.2f}')\n",
        "    train_acc_l1l2.append(100*correct/processed)\n",
        "\n",
        "def test(model, device, test_loader):\n",
        "    model.eval()\n",
        "    test_loss = 0\n",
        "    correct = 0\n",
        "    with torch.no_grad():\n",
        "        for data, target in test_loader:\n",
        "            data, target = data.to(device), target.to(device)\n",
        "            output = model(data)\n",
        "            test_loss += F.nll_loss(output, target, reduction='sum').item()  # sum up batch loss\n",
        "            pred = output.argmax(dim=1, keepdim=True)  # get the index of the max log-probability\n",
        "            correct += pred.eq(target.view_as(pred)).sum().item()\n",
        "\n",
        "    test_loss /= len(test_loader.dataset)\n",
        "    test_losses_l1l2.append(test_loss)\n",
        "\n",
        "    print('\\nTest set: Avg loss: {:.4f}, Accuracy: {}/{} ({:.2f}%)\\n'.format(\n",
        "        test_loss, correct, len(test_loader.dataset),\n",
        "        100. * correct / len(test_loader.dataset)))\n",
        "    \n",
        "    test_acc_l1l2.append(100. * correct / len(test_loader.dataset))"
      ],
      "execution_count": 0,
      "outputs": []
    },
    {
      "cell_type": "code",
      "metadata": {
        "id": "odozjbIvY12p",
        "colab_type": "code",
        "outputId": "47db5007-4031-43fe-bd3c-c994faf97c2a",
        "colab": {
          "base_uri": "https://localhost:8080/",
          "height": 1000
        }
      },
      "source": [
        "model =  Net().to(device)\n",
        "optimizer = optim.SGD(model.parameters(), lr=0.008, momentum=0.9,weight_decay=0.0001)\n",
        "EPOCHS = 40\n",
        "for epoch in range(EPOCHS):\n",
        "    print(\"EPOCH:\", epoch)\n",
        "    train(model, device, train_loader, optimizer, epoch)\n",
        "    test(model, device, test_loader)"
      ],
      "execution_count": 20,
      "outputs": [
        {
          "output_type": "stream",
          "text": [
            "\r  0%|          | 0/469 [00:00<?, ?it/s]"
          ],
          "name": "stderr"
        },
        {
          "output_type": "stream",
          "text": [
            "EPOCH: 0\n"
          ],
          "name": "stdout"
        },
        {
          "output_type": "stream",
          "text": [
            "Loss=0.2700701951980591 Batch_id=468 Accuracy=84.31: 100%|██████████| 469/469 [00:13<00:00, 35.10it/s]\n",
            "  0%|          | 0/469 [00:00<?, ?it/s]"
          ],
          "name": "stderr"
        },
        {
          "output_type": "stream",
          "text": [
            "\n",
            "Test set: Avg loss: 0.1140, Accuracy: 9707/10000 (97.07%)\n",
            "\n",
            "EPOCH: 1\n"
          ],
          "name": "stdout"
        },
        {
          "output_type": "stream",
          "text": [
            "Loss=0.12345415353775024 Batch_id=468 Accuracy=96.82: 100%|██████████| 469/469 [00:13<00:00, 34.57it/s]\n",
            "  0%|          | 0/469 [00:00<?, ?it/s]"
          ],
          "name": "stderr"
        },
        {
          "output_type": "stream",
          "text": [
            "\n",
            "Test set: Avg loss: 0.0647, Accuracy: 9804/10000 (98.04%)\n",
            "\n",
            "EPOCH: 2\n"
          ],
          "name": "stdout"
        },
        {
          "output_type": "stream",
          "text": [
            "Loss=0.15458013117313385 Batch_id=468 Accuracy=97.68: 100%|██████████| 469/469 [00:13<00:00, 35.76it/s]\n",
            "  0%|          | 0/469 [00:00<?, ?it/s]"
          ],
          "name": "stderr"
        },
        {
          "output_type": "stream",
          "text": [
            "\n",
            "Test set: Avg loss: 0.0394, Accuracy: 9899/10000 (98.99%)\n",
            "\n",
            "EPOCH: 3\n"
          ],
          "name": "stdout"
        },
        {
          "output_type": "stream",
          "text": [
            "Loss=0.1634119302034378 Batch_id=468 Accuracy=97.90: 100%|██████████| 469/469 [00:13<00:00, 35.86it/s]\n",
            "  0%|          | 0/469 [00:00<?, ?it/s]"
          ],
          "name": "stderr"
        },
        {
          "output_type": "stream",
          "text": [
            "\n",
            "Test set: Avg loss: 0.0376, Accuracy: 9904/10000 (99.04%)\n",
            "\n",
            "EPOCH: 4\n"
          ],
          "name": "stdout"
        },
        {
          "output_type": "stream",
          "text": [
            "Loss=0.21040678024291992 Batch_id=468 Accuracy=98.15: 100%|██████████| 469/469 [00:13<00:00, 36.03it/s]\n",
            "  0%|          | 0/469 [00:00<?, ?it/s]"
          ],
          "name": "stderr"
        },
        {
          "output_type": "stream",
          "text": [
            "\n",
            "Test set: Avg loss: 0.0341, Accuracy: 9901/10000 (99.01%)\n",
            "\n",
            "EPOCH: 5\n"
          ],
          "name": "stdout"
        },
        {
          "output_type": "stream",
          "text": [
            "Loss=0.10251493752002716 Batch_id=468 Accuracy=98.33: 100%|██████████| 469/469 [00:13<00:00, 36.01it/s]\n",
            "  0%|          | 0/469 [00:00<?, ?it/s]"
          ],
          "name": "stderr"
        },
        {
          "output_type": "stream",
          "text": [
            "\n",
            "Test set: Avg loss: 0.0350, Accuracy: 9894/10000 (98.94%)\n",
            "\n",
            "EPOCH: 6\n"
          ],
          "name": "stdout"
        },
        {
          "output_type": "stream",
          "text": [
            "Loss=0.0714876800775528 Batch_id=468 Accuracy=98.38: 100%|██████████| 469/469 [00:12<00:00, 36.28it/s]\n",
            "  0%|          | 0/469 [00:00<?, ?it/s]"
          ],
          "name": "stderr"
        },
        {
          "output_type": "stream",
          "text": [
            "\n",
            "Test set: Avg loss: 0.0317, Accuracy: 9912/10000 (99.12%)\n",
            "\n",
            "EPOCH: 7\n"
          ],
          "name": "stdout"
        },
        {
          "output_type": "stream",
          "text": [
            "Loss=0.11426730453968048 Batch_id=468 Accuracy=98.50: 100%|██████████| 469/469 [00:12<00:00, 36.12it/s]\n",
            "  0%|          | 0/469 [00:00<?, ?it/s]"
          ],
          "name": "stderr"
        },
        {
          "output_type": "stream",
          "text": [
            "\n",
            "Test set: Avg loss: 0.0317, Accuracy: 9899/10000 (98.99%)\n",
            "\n",
            "EPOCH: 8\n"
          ],
          "name": "stdout"
        },
        {
          "output_type": "stream",
          "text": [
            "Loss=0.0820944681763649 Batch_id=468 Accuracy=98.57: 100%|██████████| 469/469 [00:14<00:00, 32.81it/s]\n",
            "  0%|          | 0/469 [00:00<?, ?it/s]"
          ],
          "name": "stderr"
        },
        {
          "output_type": "stream",
          "text": [
            "\n",
            "Test set: Avg loss: 0.0302, Accuracy: 9914/10000 (99.14%)\n",
            "\n",
            "EPOCH: 9\n"
          ],
          "name": "stdout"
        },
        {
          "output_type": "stream",
          "text": [
            "Loss=0.15359129011631012 Batch_id=468 Accuracy=98.59: 100%|██████████| 469/469 [00:13<00:00, 42.00it/s]\n",
            "  0%|          | 0/469 [00:00<?, ?it/s]"
          ],
          "name": "stderr"
        },
        {
          "output_type": "stream",
          "text": [
            "\n",
            "Test set: Avg loss: 0.0304, Accuracy: 9905/10000 (99.05%)\n",
            "\n",
            "EPOCH: 10\n"
          ],
          "name": "stdout"
        },
        {
          "output_type": "stream",
          "text": [
            "Loss=0.09181872010231018 Batch_id=468 Accuracy=98.70: 100%|██████████| 469/469 [00:13<00:00, 34.49it/s]\n",
            "  0%|          | 0/469 [00:00<?, ?it/s]"
          ],
          "name": "stderr"
        },
        {
          "output_type": "stream",
          "text": [
            "\n",
            "Test set: Avg loss: 0.0269, Accuracy: 9925/10000 (99.25%)\n",
            "\n",
            "EPOCH: 11\n"
          ],
          "name": "stdout"
        },
        {
          "output_type": "stream",
          "text": [
            "Loss=0.08798161149024963 Batch_id=468 Accuracy=98.69: 100%|██████████| 469/469 [00:13<00:00, 34.64it/s]\n",
            "  0%|          | 0/469 [00:00<?, ?it/s]"
          ],
          "name": "stderr"
        },
        {
          "output_type": "stream",
          "text": [
            "\n",
            "Test set: Avg loss: 0.0279, Accuracy: 9910/10000 (99.10%)\n",
            "\n",
            "EPOCH: 12\n"
          ],
          "name": "stdout"
        },
        {
          "output_type": "stream",
          "text": [
            "Loss=0.08381909132003784 Batch_id=468 Accuracy=98.67: 100%|██████████| 469/469 [00:13<00:00, 33.88it/s]\n",
            "  0%|          | 0/469 [00:00<?, ?it/s]"
          ],
          "name": "stderr"
        },
        {
          "output_type": "stream",
          "text": [
            "\n",
            "Test set: Avg loss: 0.0267, Accuracy: 9921/10000 (99.21%)\n",
            "\n",
            "EPOCH: 13\n"
          ],
          "name": "stdout"
        },
        {
          "output_type": "stream",
          "text": [
            "Loss=0.12663103640079498 Batch_id=468 Accuracy=98.69: 100%|██████████| 469/469 [00:13<00:00, 40.13it/s]\n",
            "  0%|          | 0/469 [00:00<?, ?it/s]"
          ],
          "name": "stderr"
        },
        {
          "output_type": "stream",
          "text": [
            "\n",
            "Test set: Avg loss: 0.0293, Accuracy: 9915/10000 (99.15%)\n",
            "\n",
            "EPOCH: 14\n"
          ],
          "name": "stdout"
        },
        {
          "output_type": "stream",
          "text": [
            "Loss=0.07889233529567719 Batch_id=468 Accuracy=98.73: 100%|██████████| 469/469 [00:13<00:00, 34.03it/s]\n",
            "  0%|          | 0/469 [00:00<?, ?it/s]"
          ],
          "name": "stderr"
        },
        {
          "output_type": "stream",
          "text": [
            "\n",
            "Test set: Avg loss: 0.0264, Accuracy: 9917/10000 (99.17%)\n",
            "\n",
            "EPOCH: 15\n"
          ],
          "name": "stdout"
        },
        {
          "output_type": "stream",
          "text": [
            "Loss=0.1143006980419159 Batch_id=468 Accuracy=98.66: 100%|██████████| 469/469 [00:13<00:00, 34.07it/s]\n",
            "  0%|          | 0/469 [00:00<?, ?it/s]"
          ],
          "name": "stderr"
        },
        {
          "output_type": "stream",
          "text": [
            "\n",
            "Test set: Avg loss: 0.0345, Accuracy: 9900/10000 (99.00%)\n",
            "\n",
            "EPOCH: 16\n"
          ],
          "name": "stdout"
        },
        {
          "output_type": "stream",
          "text": [
            "Loss=0.1204448938369751 Batch_id=468 Accuracy=98.77: 100%|██████████| 469/469 [00:13<00:00, 34.25it/s]\n",
            "  0%|          | 0/469 [00:00<?, ?it/s]"
          ],
          "name": "stderr"
        },
        {
          "output_type": "stream",
          "text": [
            "\n",
            "Test set: Avg loss: 0.0253, Accuracy: 9919/10000 (99.19%)\n",
            "\n",
            "EPOCH: 17\n"
          ],
          "name": "stdout"
        },
        {
          "output_type": "stream",
          "text": [
            "Loss=0.09523659944534302 Batch_id=468 Accuracy=98.73: 100%|██████████| 469/469 [00:13<00:00, 34.30it/s]\n",
            "  0%|          | 0/469 [00:00<?, ?it/s]"
          ],
          "name": "stderr"
        },
        {
          "output_type": "stream",
          "text": [
            "\n",
            "Test set: Avg loss: 0.0269, Accuracy: 9918/10000 (99.18%)\n",
            "\n",
            "EPOCH: 18\n"
          ],
          "name": "stdout"
        },
        {
          "output_type": "stream",
          "text": [
            "Loss=0.10104475915431976 Batch_id=468 Accuracy=98.78: 100%|██████████| 469/469 [00:13<00:00, 34.68it/s]\n",
            "  0%|          | 0/469 [00:00<?, ?it/s]"
          ],
          "name": "stderr"
        },
        {
          "output_type": "stream",
          "text": [
            "\n",
            "Test set: Avg loss: 0.0276, Accuracy: 9917/10000 (99.17%)\n",
            "\n",
            "EPOCH: 19\n"
          ],
          "name": "stdout"
        },
        {
          "output_type": "stream",
          "text": [
            "Loss=0.10535165667533875 Batch_id=468 Accuracy=98.80: 100%|██████████| 469/469 [00:13<00:00, 35.12it/s]\n",
            "  0%|          | 0/469 [00:00<?, ?it/s]"
          ],
          "name": "stderr"
        },
        {
          "output_type": "stream",
          "text": [
            "\n",
            "Test set: Avg loss: 0.0314, Accuracy: 9900/10000 (99.00%)\n",
            "\n",
            "EPOCH: 20\n"
          ],
          "name": "stdout"
        },
        {
          "output_type": "stream",
          "text": [
            "Loss=0.14095982909202576 Batch_id=468 Accuracy=98.69: 100%|██████████| 469/469 [00:12<00:00, 36.24it/s]\n",
            "  0%|          | 0/469 [00:00<?, ?it/s]"
          ],
          "name": "stderr"
        },
        {
          "output_type": "stream",
          "text": [
            "\n",
            "Test set: Avg loss: 0.0252, Accuracy: 9924/10000 (99.24%)\n",
            "\n",
            "EPOCH: 21\n"
          ],
          "name": "stdout"
        },
        {
          "output_type": "stream",
          "text": [
            "Loss=0.06360840052366257 Batch_id=468 Accuracy=98.73: 100%|██████████| 469/469 [00:12<00:00, 36.36it/s]\n",
            "  0%|          | 0/469 [00:00<?, ?it/s]"
          ],
          "name": "stderr"
        },
        {
          "output_type": "stream",
          "text": [
            "\n",
            "Test set: Avg loss: 0.0289, Accuracy: 9907/10000 (99.07%)\n",
            "\n",
            "EPOCH: 22\n"
          ],
          "name": "stdout"
        },
        {
          "output_type": "stream",
          "text": [
            "Loss=0.0741286501288414 Batch_id=468 Accuracy=98.80: 100%|██████████| 469/469 [00:12<00:00, 44.37it/s]\n",
            "  0%|          | 0/469 [00:00<?, ?it/s]"
          ],
          "name": "stderr"
        },
        {
          "output_type": "stream",
          "text": [
            "\n",
            "Test set: Avg loss: 0.0292, Accuracy: 9914/10000 (99.14%)\n",
            "\n",
            "EPOCH: 23\n"
          ],
          "name": "stdout"
        },
        {
          "output_type": "stream",
          "text": [
            "Loss=0.09754364937543869 Batch_id=468 Accuracy=98.80: 100%|██████████| 469/469 [00:12<00:00, 36.56it/s]\n",
            "  0%|          | 0/469 [00:00<?, ?it/s]"
          ],
          "name": "stderr"
        },
        {
          "output_type": "stream",
          "text": [
            "\n",
            "Test set: Avg loss: 0.0292, Accuracy: 9908/10000 (99.08%)\n",
            "\n",
            "EPOCH: 24\n"
          ],
          "name": "stdout"
        },
        {
          "output_type": "stream",
          "text": [
            "Loss=0.060233224183321 Batch_id=468 Accuracy=98.83: 100%|██████████| 469/469 [00:13<00:00, 35.04it/s]\n",
            "  0%|          | 0/469 [00:00<?, ?it/s]"
          ],
          "name": "stderr"
        },
        {
          "output_type": "stream",
          "text": [
            "\n",
            "Test set: Avg loss: 0.0229, Accuracy: 9932/10000 (99.32%)\n",
            "\n",
            "EPOCH: 25\n"
          ],
          "name": "stdout"
        },
        {
          "output_type": "stream",
          "text": [
            "Loss=0.070098377764225 Batch_id=468 Accuracy=98.83: 100%|██████████| 469/469 [00:12<00:00, 36.31it/s]\n",
            "  0%|          | 0/469 [00:00<?, ?it/s]"
          ],
          "name": "stderr"
        },
        {
          "output_type": "stream",
          "text": [
            "\n",
            "Test set: Avg loss: 0.0287, Accuracy: 9913/10000 (99.13%)\n",
            "\n",
            "EPOCH: 26\n"
          ],
          "name": "stdout"
        },
        {
          "output_type": "stream",
          "text": [
            "Loss=0.06073327735066414 Batch_id=468 Accuracy=98.82: 100%|██████████| 469/469 [00:13<00:00, 36.05it/s]\n",
            "  0%|          | 0/469 [00:00<?, ?it/s]"
          ],
          "name": "stderr"
        },
        {
          "output_type": "stream",
          "text": [
            "\n",
            "Test set: Avg loss: 0.0266, Accuracy: 9915/10000 (99.15%)\n",
            "\n",
            "EPOCH: 27\n"
          ],
          "name": "stdout"
        },
        {
          "output_type": "stream",
          "text": [
            "Loss=0.10354676097631454 Batch_id=468 Accuracy=98.84: 100%|██████████| 469/469 [00:12<00:00, 37.11it/s]\n",
            "  0%|          | 0/469 [00:00<?, ?it/s]"
          ],
          "name": "stderr"
        },
        {
          "output_type": "stream",
          "text": [
            "\n",
            "Test set: Avg loss: 0.0231, Accuracy: 9933/10000 (99.33%)\n",
            "\n",
            "EPOCH: 28\n"
          ],
          "name": "stdout"
        },
        {
          "output_type": "stream",
          "text": [
            "Loss=0.07167559862136841 Batch_id=468 Accuracy=98.81: 100%|██████████| 469/469 [00:12<00:00, 36.13it/s]\n",
            "  0%|          | 0/469 [00:00<?, ?it/s]"
          ],
          "name": "stderr"
        },
        {
          "output_type": "stream",
          "text": [
            "\n",
            "Test set: Avg loss: 0.0224, Accuracy: 9931/10000 (99.31%)\n",
            "\n",
            "EPOCH: 29\n"
          ],
          "name": "stdout"
        },
        {
          "output_type": "stream",
          "text": [
            "Loss=0.06623752415180206 Batch_id=468 Accuracy=98.83: 100%|██████████| 469/469 [00:13<00:00, 36.02it/s]\n",
            "  0%|          | 0/469 [00:00<?, ?it/s]"
          ],
          "name": "stderr"
        },
        {
          "output_type": "stream",
          "text": [
            "\n",
            "Test set: Avg loss: 0.0283, Accuracy: 9908/10000 (99.08%)\n",
            "\n",
            "EPOCH: 30\n"
          ],
          "name": "stdout"
        },
        {
          "output_type": "stream",
          "text": [
            "Loss=0.07440988719463348 Batch_id=468 Accuracy=98.83: 100%|██████████| 469/469 [00:12<00:00, 43.27it/s]\n",
            "  0%|          | 0/469 [00:00<?, ?it/s]"
          ],
          "name": "stderr"
        },
        {
          "output_type": "stream",
          "text": [
            "\n",
            "Test set: Avg loss: 0.0233, Accuracy: 9933/10000 (99.33%)\n",
            "\n",
            "EPOCH: 31\n"
          ],
          "name": "stdout"
        },
        {
          "output_type": "stream",
          "text": [
            "Loss=0.11703306436538696 Batch_id=468 Accuracy=98.89: 100%|██████████| 469/469 [00:12<00:00, 37.27it/s]\n",
            "  0%|          | 0/469 [00:00<?, ?it/s]"
          ],
          "name": "stderr"
        },
        {
          "output_type": "stream",
          "text": [
            "\n",
            "Test set: Avg loss: 0.0266, Accuracy: 9921/10000 (99.21%)\n",
            "\n",
            "EPOCH: 32\n"
          ],
          "name": "stdout"
        },
        {
          "output_type": "stream",
          "text": [
            "Loss=0.056263476610183716 Batch_id=468 Accuracy=98.86: 100%|██████████| 469/469 [00:12<00:00, 36.22it/s]\n",
            "  0%|          | 0/469 [00:00<?, ?it/s]"
          ],
          "name": "stderr"
        },
        {
          "output_type": "stream",
          "text": [
            "\n",
            "Test set: Avg loss: 0.0254, Accuracy: 9921/10000 (99.21%)\n",
            "\n",
            "EPOCH: 33\n"
          ],
          "name": "stdout"
        },
        {
          "output_type": "stream",
          "text": [
            "Loss=0.061264410614967346 Batch_id=468 Accuracy=98.90: 100%|██████████| 469/469 [00:12<00:00, 36.26it/s]\n",
            "  0%|          | 0/469 [00:00<?, ?it/s]"
          ],
          "name": "stderr"
        },
        {
          "output_type": "stream",
          "text": [
            "\n",
            "Test set: Avg loss: 0.0225, Accuracy: 9926/10000 (99.26%)\n",
            "\n",
            "EPOCH: 34\n"
          ],
          "name": "stdout"
        },
        {
          "output_type": "stream",
          "text": [
            "Loss=0.08500335365533829 Batch_id=468 Accuracy=98.87: 100%|██████████| 469/469 [00:12<00:00, 36.19it/s]\n",
            "  0%|          | 0/469 [00:00<?, ?it/s]"
          ],
          "name": "stderr"
        },
        {
          "output_type": "stream",
          "text": [
            "\n",
            "Test set: Avg loss: 0.0217, Accuracy: 9929/10000 (99.29%)\n",
            "\n",
            "EPOCH: 35\n"
          ],
          "name": "stdout"
        },
        {
          "output_type": "stream",
          "text": [
            "Loss=0.0766678974032402 Batch_id=468 Accuracy=98.78: 100%|██████████| 469/469 [00:12<00:00, 36.64it/s]\n",
            "  0%|          | 0/469 [00:00<?, ?it/s]"
          ],
          "name": "stderr"
        },
        {
          "output_type": "stream",
          "text": [
            "\n",
            "Test set: Avg loss: 0.0247, Accuracy: 9922/10000 (99.22%)\n",
            "\n",
            "EPOCH: 36\n"
          ],
          "name": "stdout"
        },
        {
          "output_type": "stream",
          "text": [
            "Loss=0.06890277564525604 Batch_id=468 Accuracy=98.84: 100%|██████████| 469/469 [00:12<00:00, 36.40it/s]\n",
            "  0%|          | 0/469 [00:00<?, ?it/s]"
          ],
          "name": "stderr"
        },
        {
          "output_type": "stream",
          "text": [
            "\n",
            "Test set: Avg loss: 0.0217, Accuracy: 9935/10000 (99.35%)\n",
            "\n",
            "EPOCH: 37\n"
          ],
          "name": "stdout"
        },
        {
          "output_type": "stream",
          "text": [
            "Loss=0.1729113608598709 Batch_id=468 Accuracy=98.87: 100%|██████████| 469/469 [00:13<00:00, 45.00it/s]\n",
            "  0%|          | 0/469 [00:00<?, ?it/s]"
          ],
          "name": "stderr"
        },
        {
          "output_type": "stream",
          "text": [
            "\n",
            "Test set: Avg loss: 0.0277, Accuracy: 9912/10000 (99.12%)\n",
            "\n",
            "EPOCH: 38\n"
          ],
          "name": "stdout"
        },
        {
          "output_type": "stream",
          "text": [
            "Loss=0.12180983275175095 Batch_id=468 Accuracy=98.88: 100%|██████████| 469/469 [00:12<00:00, 36.29it/s]\n",
            "  0%|          | 0/469 [00:00<?, ?it/s]"
          ],
          "name": "stderr"
        },
        {
          "output_type": "stream",
          "text": [
            "\n",
            "Test set: Avg loss: 0.0278, Accuracy: 9911/10000 (99.11%)\n",
            "\n",
            "EPOCH: 39\n"
          ],
          "name": "stdout"
        },
        {
          "output_type": "stream",
          "text": [
            "Loss=0.05921757593750954 Batch_id=468 Accuracy=98.91: 100%|██████████| 469/469 [00:12<00:00, 36.84it/s]\n"
          ],
          "name": "stderr"
        },
        {
          "output_type": "stream",
          "text": [
            "\n",
            "Test set: Avg loss: 0.0233, Accuracy: 9926/10000 (99.26%)\n",
            "\n"
          ],
          "name": "stdout"
        }
      ]
    },
    {
      "cell_type": "code",
      "metadata": {
        "id": "8fgUNxDBJZD8",
        "colab_type": "code",
        "colab": {}
      },
      "source": [
        ""
      ],
      "execution_count": 0,
      "outputs": []
    },
    {
      "cell_type": "code",
      "metadata": {
        "id": "B4rc_hCfbqsi",
        "colab_type": "code",
        "colab": {
          "base_uri": "https://localhost:8080/",
          "height": 624
        },
        "outputId": "e29aae23-639c-47ec-c71b-023c05801712"
      },
      "source": [
        "# Let's visualize some of the images\n",
        "%matplotlib inline\n",
        "import matplotlib.pyplot as plt\n",
        "fig, axs = plt.subplots(1,2,figsize=(15,10))\n",
        "axs[0].plot(test_acc_normal, label='no l1/l2')\n",
        "axs[0].plot(test_acc_l1, label='l1')\n",
        "axs[0].plot(test_acc_l2, label='l2')\n",
        "axs[0].plot(test_acc_l1l2, label='l1+l2')\n",
        "axs[0].set_title(\"Accuracy\")\n",
        "axs[0].legend(loc=\"upper left\")\n",
        "\n",
        "axs[1].plot(test_losses_normal,label='no l1/l2')\n",
        "#axs[0, 1].set_title(\"Test Loss\")\n",
        "axs[1].plot(test_losses_l1,label='l1')\n",
        "axs[1].plot(test_losses_l2,label='l2')\n",
        "axs[1].plot(test_losses_l1l2,label='l1+l2')\n",
        "axs[1].set_title(\"Loss\")\n",
        "axs[1].legend(loc=\"upper left\")\n",
        "#axs[1, 1].set_title(\"Test Accuracy\")"
      ],
      "execution_count": 21,
      "outputs": [
        {
          "output_type": "execute_result",
          "data": {
            "text/plain": [
              "<matplotlib.legend.Legend at 0x7fcfe4fce470>"
            ]
          },
          "metadata": {
            "tags": []
          },
          "execution_count": 21
        },
        {
          "output_type": "display_data",
          "data": {
            "image/png": "[encoded data removed]",
            "text/plain": [
              "<Figure size 1080x720 with 2 Axes>"
            ]
          },
          "metadata": {
            "tags": []
          }
        }
      ]
    }
  ]
}